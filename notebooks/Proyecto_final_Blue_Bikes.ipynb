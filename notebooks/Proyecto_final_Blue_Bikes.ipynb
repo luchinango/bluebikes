{
  "cells": [
    {
      "cell_type": "markdown",
      "metadata": {
        "id": "NBT1eIkbzswC"
      },
      "source": [
        "# **Funciones**"
      ]
    },
    {
      "cell_type": "code",
      "execution_count": 1,
      "metadata": {
        "id": "ieQSrP27j4zp"
      },
      "outputs": [],
      "source": [
        "import requests, os, zipfile\n",
        "from io import BytesIO\n",
        "def configurar_spark():\n",
        "    import os\n",
        "import sys\n",
        "\n",
        "\n",
        "\n",
        "def download_and_extract_zip():\n",
        "# URL base y carpeta de salida\n",
        "    base_url = \"https://s3.amazonaws.com/hubway-data/\"\n",
        "    output_folder = \"hubway_csv\"\n",
        "    os.makedirs(output_folder, exist_ok=True)\n",
        "\n",
        "\n",
        "    zip_files = [\n",
        "        \"201501-hubway-tripdata.zip\",\"201502-hubway-tripdata.zip\",\"201503-hubway-tripdata.zip\",\"201504-hubway-tripdata.zip\",\n",
        "        \"201505-hubway-tripdata.zip\",\"201506-hubway-tripdata.zip\",\"201507-hubway-tripdata.zip\",\"201508-hubway-tripdata.zip\",\n",
        "        \"201509-hubway-tripdata.zip\",\"201510-hubway-tripdata.zip\",\"201511-hubway-tripdata.zip\",\"201512-hubway-tripdata.zip\",\n",
        "        \"201601-hubway-tripdata.zip\",\"201602-hubway-tripdata.zip\",\"201603-hubway-tripdata.zip\",\"201604-hubway-tripdata.zip\",\n",
        "        \"201605-hubway-tripdata.zip\",\"201606-hubway-tripdata.zip\",\"201607-hubway-tripdata.zip\",\"201608-hubway-tripdata.zip\",\n",
        "        \"201609-hubway-tripdata.zip\",\"201610-hubway-tripdata.zip\",\"201611-hubway-tripdata.zip\",\"201612-hubway-tripdata.zip\",\n",
        "        \"201701-hubway-tripdata.zip\",\"201702-hubway-tripdata.zip\",\"201703-hubway-tripdata.zip\",\"201704-hubway-tripdata.zip\",\n",
        "        \"201705-hubway-tripdata.zip\",\"201706-hubway-tripdata.zip\",\"201707-hubway-tripdata.zip\",\"201708-hubway-tripdata.zip\",\n",
        "        \"201709-hubway-tripdata.zip\",\"201710-hubway-tripdata.zip\",\"201711-hubway-tripdata.zip\",\"201712-hubway-tripdata.zip\",\n",
        "        \"201801-hubway-tripdata.zip\",\"201802-hubway-tripdata.zip\",\"201803-hubway-tripdata.zip\",\"201804-hubway-tripdata.zip\",\n",
        "        \"201805-bluebikes-tripdata.zip\",\"201806-bluebikes-tripdata.zip\",\"201807-bluebikes-tripdata.zip\",\n",
        "        \"201808-bluebikes-tripdata.zip\",\"201809-bluebikes-tripdata.zip\",\"201810-bluebikes-tripdata.zip\",\n",
        "        \"201811-bluebikes-tripdata.zip\",\"201812-bluebikes-tripdata.zip\",\"201901-bluebikes-tripdata.zip\",\n",
        "        \"201902-bluebikes-tripdata.zip\",\"201903-bluebikes-tripdata.zip\",\"201904-bluebikes-tripdata.zip\",\n",
        "        \"201905-bluebikes-tripdata.zip\",\"201906-bluebikes-tripdata.zip\",\"201907-bluebikes-tripdata.zip\",\n",
        "        \"201908-bluebikes-tripdata.zip\",\"201909-bluebikes-tripdata.zip\",\"201910-bluebikes-tripdata.zip\",\n",
        "        \"201911-bluebikes-tripdata.zip\",\"201912-bluebikes-tripdata.zip\",\"202001-bluebikes-tripdata.zip\",\n",
        "        \"202002-bluebikes-tripdata.zip\",\"202003-bluebikes-tripdata.zip\",\"202004-bluebikes-tripdata.zip\",\n",
        "        \"202005-bluebikes-tripdata.zip\",\"202006-bluebikes-tripdata.zip\",\"202007-bluebikes-tripdata.zip\",\n",
        "        \"202008-bluebikes-tripdata.zip\",\"202009-bluebikes-tripdata.zip\",\"202010-bluebikes-tripdata.zip\",\n",
        "        \"202011-bluebikes-tripdata.zip\",\"202012-bluebikes-tripdata.zip\",\"202101-bluebikes-tripdata.zip\",\n",
        "        \"202102-bluebikes-tripdata.zip\",\"202103-bluebikes-tripdata.zip\",\"202104-bluebikes-tripdata.zip\",\n",
        "        \"202105-bluebikes-tripdata.zip\",\"202106-bluebikes-tripdata.zip\",\"202107-bluebikes-tripdata.zip\",\n",
        "        \"202108-bluebikes-tripdata.zip\",\"202109-bluebikes-tripdata.zip\",\"202110-bluebikes-tripdata.zip\",\n",
        "        \"202111-bluebikes-tripdata.zip\",\"202112-bluebikes-tripdata.zip\",\"202201-bluebikes-tripdata.zip\",\n",
        "        \"202202-bluebikes-tripdata.zip\",\"202203-bluebikes-tripdata.zip\",\"202204-bluebikes-tripdata.zip\",\n",
        "        \"202205-bluebikes-tripdata.zip\",\"202206-bluebikes-tripdata.zip\",\"202207-bluebikes-tripdata.zip\",\n",
        "        \"202208-bluebikes-tripdata.zip\",\"202209-bluebikes-tripdata.zip\",\"202210-bluebikes-tripdata.zip\",\n",
        "        \"202211-bluebikes-tripdata.zip\",\"202212-bluebikes-tripdata.zip\",\"202301-bluebikes-tripdata.zip\",\n",
        "        \"202302-bluebikes-tripdata.zip\",\"202303-bluebikes-tripdata.zip\",\"202304-bluebikes-tripdata.zip\",\n",
        "        \"202305-bluebikes-tripdata.zip\",\"202306-bluebikes-tripdata.zip\",\"202307-bluebikes-tripdata.zip\",\n",
        "        \"202308-bluebikes-tripdata.zip\",\"202309-bluebikes-tripdata.zip\",\"202310-bluebikes-tripdata.zip\",\n",
        "        \"202311-bluebikes-tripdata.zip\",\"202312-bluebikes-tripdata.zip\",\"202401-bluebikes-tripdata.zip\",\n",
        "        \"202402-bluebikes-tripdata.zip\",\"202403-bluebikes-tripdata.zip\",\"202404-bluebikes-tripdata.zip\",\n",
        "        \"202405-bluebikes-tripdata.zip\",\"202406-bluebikes-tripdata.zip\",\"202407-bluebikes-tripdata.zip\",\n",
        "        \"202408-bluebikes-tripdata.zip\",\"202409-bluebikes-tripdata.zip\",\"202410-bluebikes-tripdata.zip\",\n",
        "        \"202411-bluebikes-tripdata.zip\",\"202412-bluebikes-tripdata.zip\",\"202501-bluebikes-tripdata.zip\",\n",
        "        \"202502-bluebikes-tripdata.zip\",\"202503-bluebikes-tripdata.zip\",\"202504-bluebikes-tripdata.zip\",\n",
        "        \"202505-bluebikes-tripdata.zip\",\"202506-bluebikes-tripdata.zip\"\n",
        "    ]\n",
        "\n",
        "    for zip_name in zip_files:\n",
        "        # Asignamos nombre del ZIP\n",
        "        zip_path = os.path.join(output_folder, zip_name)\n",
        "\n",
        "        # Descargar el archivo ZIP\n",
        "        file_url = base_url + zip_name\n",
        "\n",
        "        r = requests.get(file_url)\n",
        "        if r.status_code != 200:\n",
        "\n",
        "            continue\n",
        "\n",
        "        with zipfile.ZipFile(BytesIO(r.content)) as z:\n",
        "            # Buscar el primer archivo CSV dentro del ZIP\n",
        "            csv_files = [f for f in z.namelist() if f.lower().endswith(\".csv\")]\n",
        "            if not csv_files:\n",
        "\n",
        "                continue\n",
        "\n",
        "            csv_file = csv_files[0]  # Tomar el primero\n",
        "            csv_name = os.path.basename(csv_file)\n",
        "            csv_path = os.path.join(output_folder, csv_name)\n",
        "\n",
        "            if os.path.exists(csv_path):\n",
        "\n",
        "                continue\n",
        "\n",
        "            print(f\"Extrayendo: {csv_name}\")\n",
        "            with z.open(csv_file) as src, open(csv_path, \"wb\") as dst:\n",
        "                dst.write(src.read())\n",
        "\n",
        "    print(\"✅ Descarga y extracción finalizada.\")\n",
        "\n",
        "import zipfile\n",
        "import pandas as pd\n",
        "def check_schema_consistency(folder_path=\"hubway_csv\"):\n",
        "    esquemas = {}\n",
        "\n",
        "    for file in os.listdir(folder_path):\n",
        "        if file.endswith(\".csv\"):\n",
        "            file_path = os.path.join(folder_path, file)\n",
        "            try:\n",
        "                df = pd.read_csv(file_path, nrows=5)\n",
        "                columnas = tuple(df.columns)\n",
        "\n",
        "                if columnas not in esquemas:\n",
        "                    esquemas[columnas] = []\n",
        "                esquemas[columnas].append(file)\n",
        "            except Exception as e:\n",
        "                print(f\"❌ Error leyendo {file}: {e}\")\n",
        "\n",
        "    for i, (cols, archivos) in enumerate(esquemas.items(), 1):\n",
        "        print(f\"\\n🔹 Esquema {i}: {len(archivos)} archivos\")\n",
        "        print(\"Columnas:\", list(cols))\n",
        "        print(\"Ejemplos:\", archivos[:5], \"...\")\n",
        "\n",
        "import os\n",
        "import pandas as pd\n",
        "import re\n",
        "\n",
        "\n",
        "import os\n",
        "import re\n",
        "import pandas as pd\n",
        "\n",
        "from pyspark.sql.functions import col, lit, when, to_timestamp, unix_timestamp\n",
        "\n",
        "from pyspark.sql.functions import col, lit, when, to_timestamp, unix_timestamp\n",
        "\n",
        "from pyspark.sql.functions import col, lit, to_timestamp, when, lower, unix_timestamp\n",
        "\n",
        "def estandarizar_schema_spark(df, schema, periodo):\n",
        "    if schema == \"schema1\":\n",
        "        df_std = df \\\n",
        "            .withColumnRenamed(\"bikeid\", \"ride_id\") \\\n",
        "            .withColumn(\"rideable_type\", lit(None).cast(\"string\")) \\\n",
        "            .withColumnRenamed(\"starttime\", \"started_at\") \\\n",
        "            .withColumnRenamed(\"stoptime\", \"ended_at\") \\\n",
        "            .withColumnRenamed(\"start station id\", \"start_station_id\") \\\n",
        "            .withColumnRenamed(\"start station name\", \"start_station_name\") \\\n",
        "            .withColumnRenamed(\"start station latitude\", \"start_lat\") \\\n",
        "            .withColumnRenamed(\"start station longitude\", \"start_lng\") \\\n",
        "            .withColumnRenamed(\"end station id\", \"end_station_id\") \\\n",
        "            .withColumnRenamed(\"end station name\", \"end_station_name\") \\\n",
        "            .withColumnRenamed(\"end station latitude\", \"end_lat\") \\\n",
        "            .withColumnRenamed(\"end station longitude\", \"end_lng\") \\\n",
        "            .withColumn(\"member_casual\", when(col(\"usertype\") == \"Customer\", \"casual\")\n",
        "                        .when(col(\"usertype\") == \"Subscriber\", \"member\")\n",
        "                        .otherwise(col(\"usertype\"))) \\\n",
        "            .withColumnRenamed(\"tripduration\", \"duration_sec\") \\\n",
        "            .withColumn(\"schema_version\", lit(schema)) \\\n",
        "            .withColumn(\"birth_year\", col(\"birth year\").cast(\"int\")) \\\n",
        "            .withColumn(\"gender\", col(\"gender\").cast(\"int\")) \\\n",
        "            .withColumn(\"postal_code\", lit(None).cast(\"string\")) \\\n",
        "            .withColumn(\"periodo\", lit(periodo))\n",
        "\n",
        "    elif schema == \"schema3\":\n",
        "        df_std = df \\\n",
        "            .withColumnRenamed(\"bikeid\", \"ride_id\") \\\n",
        "            .withColumn(\"rideable_type\", lit(None).cast(\"string\")) \\\n",
        "            .withColumnRenamed(\"starttime\", \"started_at\") \\\n",
        "            .withColumnRenamed(\"stoptime\", \"ended_at\") \\\n",
        "            .withColumnRenamed(\"start station id\", \"start_station_id\") \\\n",
        "            .withColumnRenamed(\"start station name\", \"start_station_name\") \\\n",
        "            .withColumnRenamed(\"start station latitude\", \"start_lat\") \\\n",
        "            .withColumnRenamed(\"start station longitude\", \"start_lng\") \\\n",
        "            .withColumnRenamed(\"end station id\", \"end_station_id\") \\\n",
        "            .withColumnRenamed(\"end station name\", \"end_station_name\") \\\n",
        "            .withColumnRenamed(\"end station latitude\", \"end_lat\") \\\n",
        "            .withColumnRenamed(\"end station longitude\", \"end_lng\") \\\n",
        "            .withColumn(\"member_casual\", when(col(\"usertype\") == \"Customer\", \"casual\")\n",
        "                        .when(col(\"usertype\") == \"Subscriber\", \"member\")\n",
        "                        .otherwise(col(\"usertype\"))) \\\n",
        "            .withColumnRenamed(\"tripduration\", \"duration_sec\") \\\n",
        "            .withColumn(\"schema_version\", lit(schema)) \\\n",
        "            .withColumn(\"birth_year\", lit(None).cast(\"int\")) \\\n",
        "            .withColumn(\"gender\", lit(None).cast(\"int\")) \\\n",
        "            .withColumn(\"postal_code\", col(\"postal code\")) \\\n",
        "            .withColumn(\"periodo\", lit(periodo))\n",
        "\n",
        "    elif schema == \"schema2\":\n",
        "        df_std = df \\\n",
        "            .withColumn(\"ride_id\", col(\"ride_id\")) \\\n",
        "            .withColumn(\"rideable_type\", col(\"rideable_type\")) \\\n",
        "            .withColumn(\"started_at\", to_timestamp(\"started_at\")) \\\n",
        "            .withColumn(\"ended_at\", to_timestamp(\"ended_at\")) \\\n",
        "            .withColumn(\"start_station_id\", col(\"start_station_id\")) \\\n",
        "            .withColumn(\"start_station_name\", col(\"start_station_name\")) \\\n",
        "            .withColumn(\"start_lat\", col(\"start_lat\").cast(\"double\")) \\\n",
        "            .withColumn(\"start_lng\", col(\"start_lng\").cast(\"double\")) \\\n",
        "            .withColumn(\"end_station_id\", col(\"end_station_id\")) \\\n",
        "            .withColumn(\"end_station_name\", col(\"end_station_name\")) \\\n",
        "            .withColumn(\"end_lat\", col(\"end_lat\").cast(\"double\")) \\\n",
        "            .withColumn(\"end_lng\", col(\"end_lng\").cast(\"double\")) \\\n",
        "            .withColumn(\"member_casual\", lower(col(\"member_casual\"))) \\\n",
        "            .withColumn(\"duration_sec\", unix_timestamp(\"ended_at\") - unix_timestamp(\"started_at\")) \\\n",
        "            .withColumn(\"schema_version\", lit(schema)) \\\n",
        "            .withColumn(\"birth_year\", lit(None).cast(\"int\")) \\\n",
        "            .withColumn(\"gender\", lit(None).cast(\"int\")) \\\n",
        "            .withColumn(\"postal_code\", lit(None).cast(\"string\")) \\\n",
        "            .withColumn(\"periodo\", lit(periodo))\n",
        "\n",
        "    else:\n",
        "        raise ValueError(f\"Esquema no reconocido: {schema}\")\n",
        "\n",
        "    return df_std.select(\n",
        "        \"ride_id\", \"rideable_type\", \"started_at\", \"ended_at\",\n",
        "        \"start_station_id\", \"start_station_name\", \"start_lat\", \"start_lng\",\n",
        "        \"end_station_id\", \"end_station_name\", \"end_lat\", \"end_lng\",\n",
        "        \"member_casual\", \"duration_sec\", \"schema_version\",\n",
        "        \"birth_year\", \"gender\", \"postal_code\", \"periodo\"\n",
        "    )\n",
        "\n",
        "from pyspark.sql.functions import lower\n",
        "\n",
        "\n",
        "def detectar_schema_spark(df):\n",
        "    cols = [c.lower().strip() for c in df.columns]\n",
        "\n",
        "    schema1 = {'tripduration', 'starttime', 'stoptime', 'start station id', 'start station name',\n",
        "               'start station latitude', 'start station longitude', 'end station id', 'end station name',\n",
        "               'end station latitude', 'end station longitude', 'bikeid', 'usertype', 'birth year', 'gender'}\n",
        "\n",
        "    schema3 = {'tripduration', 'starttime', 'stoptime', 'start station id', 'start station name',\n",
        "               'start station latitude', 'start station longitude', 'end station id', 'end station name',\n",
        "               'end station latitude', 'end station longitude', 'bikeid', 'usertype', 'postal code'}\n",
        "\n",
        "    schema2 = {'ride_id', 'rideable_type', 'started_at', 'ended_at', 'start_station_id', 'start_station_name',\n",
        "               'start_lat', 'start_lng', 'end_station_id', 'end_station_name', 'end_lat', 'end_lng', 'member_casual'}\n",
        "\n",
        "    if set(cols) >= schema1:\n",
        "        return 'schema1'\n",
        "    elif set(cols) >= schema3:\n",
        "        return 'schema3'\n",
        "    elif set(cols) >= schema2:\n",
        "        return 'schema2'\n",
        "    else:\n",
        "        return None\n",
        "\n",
        "\n",
        "\n",
        "import os\n",
        "import re\n",
        "\n",
        "def cargar_datasets_unificados_spark(folder_path=\"hubway_csv\"):\n",
        "    dfs = []\n",
        "    archivos_ok = []\n",
        "    archivos_error = []\n",
        "\n",
        "    for file in os.listdir(folder_path):\n",
        "        if file.endswith(\".csv\"):\n",
        "            path = os.path.join(folder_path, file)\n",
        "            try:\n",
        "                df = spark.read.option(\"header\", True).csv(path)\n",
        "                schema = detectar_schema_spark(df)\n",
        "                if schema:\n",
        "                    match = re.search(r\"(\\d{6})\", file)\n",
        "                    periodo = match.group(1) if match else None\n",
        "                    df_std = estandarizar_schema_spark(df, schema, periodo)\n",
        "                    dfs.append(df_std)\n",
        "                    archivos_ok.append(file)\n",
        "            except Exception as e:\n",
        "                archivos_error.append((file, str(e)))\n",
        "\n",
        "    print(f\"\\n✅ Archivos unificados: {len(archivos_ok)}\")\n",
        "    print(f\"❌ Archivos con error en estandarización: {len(archivos_error)}\")\n",
        "\n",
        "    if archivos_error:\n",
        "        for file, err in archivos_error:\n",
        "            print(f\"- {file}: {err}\")\n",
        "\n",
        "    if dfs:\n",
        "        df_final = dfs[0]\n",
        "        for df in dfs[1:]:\n",
        "            df_final = df_final.unionByName(df)\n",
        "\n",
        "        total_registros = df_final.count()\n",
        "        print(f\"📊 Total de registros unificados: {total_registros}\")\n",
        "\n",
        "        return df_final\n",
        "    else:\n",
        "        print(\"⚠️ No se generó ningún DataFrame unificado.\")\n",
        "        return spark.createDataFrame([], schema=\"ride_id STRING\")\n",
        "\n",
        "from pyspark.sql.dataframe import DataFrame\n",
        "\n",
        "def unpersist_all_except(excepts=(\"df_spark\",)):\n",
        "    for name, obj in list(globals().items()):\n",
        "        if name in excepts: \n",
        "            continue\n",
        "        if isinstance(obj, DataFrame):\n",
        "            try:\n",
        "                obj.unpersist(blocking=False)\n",
        "            except:\n",
        "                pass\n",
        "            # opcional: eliminar referencia Python\n",
        "            try:\n",
        "                del globals()[name]\n",
        "            except:\n",
        "                pass\n",
        "\n",
        "\n",
        "\n",
        "\n",
        "\n",
        "\n"
      ]
    },
    {
      "cell_type": "markdown",
      "metadata": {
        "id": "LEIS9FnVz5Gl"
      },
      "source": [
        "# **Descargar BD Blue Bikes**"
      ]
    },
    {
      "cell_type": "code",
      "execution_count": 3,
      "metadata": {
        "colab": {
          "base_uri": "https://localhost:8080/"
        },
        "id": "CEqAW0uhkIgv",
        "outputId": "f7c5855f-1f54-4ec4-a583-4115e8715294"
      },
      "outputs": [
        {
          "name": "stdout",
          "output_type": "stream",
          "text": [
            "✅ Descarga y extracción finalizada.\n"
          ]
        }
      ],
      "source": [
        "download_and_extract_zip()\n"
      ]
    },
    {
      "cell_type": "code",
      "execution_count": 4,
      "metadata": {
        "colab": {
          "base_uri": "https://localhost:8080/"
        },
        "id": "L_iUT3VPpSPO",
        "outputId": "2fead891-cc2a-4f8c-989f-4b06e5612313"
      },
      "outputs": [
        {
          "name": "stdout",
          "output_type": "stream",
          "text": [
            "\n",
            "🔹 Esquema 1: 64 archivos\n",
            "Columnas: ['tripduration', 'starttime', 'stoptime', 'start station id', 'start station name', 'start station latitude', 'start station longitude', 'end station id', 'end station name', 'end station latitude', 'end station longitude', 'bikeid', 'usertype', 'birth year', 'gender']\n",
            "Ejemplos: ['201501-hubway-tripdata.csv', '201502-hubway-tripdata.csv', '201503-hubway-tripdata.csv', '201504-hubway-tripdata.csv', '201505-hubway-tripdata.csv'] ...\n",
            "\n",
            "🔹 Esquema 2: 35 archivos\n",
            "Columnas: ['tripduration', 'starttime', 'stoptime', 'start station id', 'start station name', 'start station latitude', 'start station longitude', 'end station id', 'end station name', 'end station latitude', 'end station longitude', 'bikeid', 'usertype', 'postal code']\n",
            "Ejemplos: ['202005-bluebikes-tripdata.csv', '202006-bluebikes-tripdata.csv', '202007-bluebikes-tripdata.csv', '202008-bluebikes-tripdata.csv', '202009-bluebikes-tripdata.csv'] ...\n",
            "\n",
            "🔹 Esquema 3: 27 archivos\n",
            "Columnas: ['ride_id', 'rideable_type', 'started_at', 'ended_at', 'start_station_name', 'start_station_id', 'end_station_name', 'end_station_id', 'start_lat', 'start_lng', 'end_lat', 'end_lng', 'member_casual']\n",
            "Ejemplos: ['202304-bluebikes-tripdata.csv', '202305-bluebikes-tripdata.csv', '202306-bluebikes-tripdata.csv', '202307-bluebikes-tripdata.csv', '202308-bluebikes-tripdata.csv'] ...\n"
          ]
        }
      ],
      "source": [
        "check_schema_consistency()"
      ]
    },
    {
      "cell_type": "code",
      "execution_count": 5,
      "metadata": {
        "colab": {
          "base_uri": "https://localhost:8080/"
        },
        "id": "utoiDyaKXNdT",
        "outputId": "714f4135-4db9-492b-9079-240a660eb991"
      },
      "outputs": [
        {
          "name": "stdout",
          "output_type": "stream",
          "text": [
            "✅ Total de archivos CSV: 126\n"
          ]
        }
      ],
      "source": [
        "import os\n",
        "\n",
        "folder_path = \"hubway_csv\"\n",
        "csv_files = [f for f in os.listdir(folder_path) if f.endswith(\".csv\")]\n",
        "print(f\"✅ Total de archivos CSV: {len(csv_files)}\")\n"
      ]
    },
    {
      "cell_type": "markdown",
      "metadata": {},
      "source": [
        "# Iniciar PySpark"
      ]
    },
    {
      "cell_type": "code",
      "execution_count": 2,
      "metadata": {
        "colab": {
          "base_uri": "https://localhost:8080/"
        },
        "id": "aQp_v2rausFu",
        "outputId": "a1b0554f-03b6-4158-84ee-0191a249da96"
      },
      "outputs": [
        {
          "name": "stdout",
          "output_type": "stream",
          "text": [
            "✅ Spark configurado correctamente\n",
            "\n",
            "✅ Archivos unificados: 126\n",
            "❌ Archivos con error en estandarización: 0\n",
            "📊 Total de registros unificados: 27065610\n"
          ]
        }
      ],
      "source": [
        "import os\n",
        "import sys\n",
        "\n",
        "# Configuración rápida\n",
        "os.environ['JAVA_HOME'] = r'C:\\Program Files\\Eclipse Adoptium\\jdk-21.0.8.9-hotspot'\n",
        "os.environ['PYSPARK_PYTHON'] = sys.executable\n",
        "os.environ['PYSPARK_DRIVER_PYTHON'] = sys.executable\n",
        "os.environ['SPARK_LOCAL_IP'] = '127.0.0.1'\n",
        "\n",
        "from pyspark.sql import SparkSession\n",
        "\n",
        "java_options = \"--add-opens java.base/java.lang=ALL-UNNAMED --add-opens java.base/java.lang.invoke=ALL-UNNAMED --add-opens java.base/java.lang.reflect=ALL-UNNAMED --add-opens java.base/java.io=ALL-UNNAMED --add-opens java.base/java.net=ALL-UNNAMED --add-opens java.base/java.nio=ALL-UNNAMED --add-opens java.base/java.util=ALL-UNNAMED --add-opens java.base/java.util.concurrent=ALL-UNNAMED --add-opens java.base/java.util.concurrent.atomic=ALL-UNNAMED --add-opens java.base/sun.nio.ch=ALL-UNNAMED --add-opens java.base/sun.nio.cs=ALL-UNNAMED --add-opens java.base/sun.security.action=ALL-UNNAMED --add-opens java.base/sun.util.calendar=ALL-UNNAMED\"\n",
        "\n",
        "spark = SparkSession.builder \\\n",
        "    .appName(\"Unificar Esquemas Hubway\") \\\n",
        "    .master(\"local[2]\") \\\n",
        "    .config(\"spark.driver.host\", \"127.0.0.1\") \\\n",
        "    .config(\"spark.driver.bindAddress\", \"127.0.0.1\") \\\n",
        "    .config(\"spark.sql.execution.arrow.pyspark.enabled\", \"false\") \\\n",
        "    .config(\"spark.python.worker.timeout\", \"600\") \\\n",
        "    .config(\"spark.network.timeout\", \"600s\") \\\n",
        "    .config(\"spark.python.worker.reuse\", \"false\") \\\n",
        "    .config(\"spark.driver.memory\", \"2g\") \\\n",
        "    .config(\"spark.sql.shuffle.partitions\", \"4\") \\\n",
        "    .config(\"spark.driver.extraJavaOptions\", java_options) \\\n",
        "    .config(\"spark.executor.extraJavaOptions\", java_options) \\\n",
        "    .getOrCreate()\n",
        "\n",
        "spark.sparkContext.setLogLevel(\"WARN\")\n",
        "print(\"✅ Spark configurado correctamente\")\n",
        "\n",
        "# Tu código existente:\n",
        "df_spark = cargar_datasets_unificados_spark(\"hubway_csv\")"
      ]
    },
    {
      "cell_type": "markdown",
      "metadata": {
        "id": "sIZbaNcLtpEf"
      },
      "source": [
        "# Revisar distintos Schemas"
      ]
    },
    {
      "cell_type": "code",
      "execution_count": 3,
      "metadata": {
        "colab": {
          "base_uri": "https://localhost:8080/"
        },
        "id": "io7MOY81tpEf",
        "outputId": "8d7ebb5e-4a5b-4da8-86b7-95c8a1414faf"
      },
      "outputs": [
        {
          "name": "stdout",
          "output_type": "stream",
          "text": [
            "+--------------+-----------+-----------+---------------+\n",
            "|schema_version|periodo_min|periodo_max|total_registros|\n",
            "+--------------+-----------+-----------+---------------+\n",
            "|schema1       |201501     |202004     |8379088        |\n",
            "|schema2       |202304     |202506     |9845073        |\n",
            "|schema3       |202005     |202303     |8841449        |\n",
            "+--------------+-----------+-----------+---------------+\n",
            "\n"
          ]
        }
      ],
      "source": [
        "from pyspark.sql.functions import min, max, count\n",
        "\n",
        "\n",
        "df_spark.groupBy(\"schema_version\") \\\n",
        "    .agg(\n",
        "        min(\"periodo\").alias(\"periodo_min\"),\n",
        "        max(\"periodo\").alias(\"periodo_max\"),\n",
        "        count(\"*\").alias(\"total_registros\")\n",
        "    ) \\\n",
        "    .orderBy(\"schema_version\") \\\n",
        "    .show(truncate=False)\n"
      ]
    },
    {
      "cell_type": "markdown",
      "metadata": {
        "id": "YzUdL351tpEg"
      },
      "source": [
        "# Transformar tipo de datos"
      ]
    },
    {
      "cell_type": "code",
      "execution_count": 4,
      "metadata": {
        "id": "dpL1ZGcztpEg"
      },
      "outputs": [],
      "source": [
        "from pyspark.sql.functions import col, to_timestamp\n",
        "#Transformar tipos de datos\n",
        "df_spark = df_spark \\\n",
        "    .withColumn(\"started_at\", to_timestamp(\"started_at\")) \\\n",
        "    .withColumn(\"ended_at\", to_timestamp(\"ended_at\")) \\\n",
        "    .withColumn(\"start_lat\", col(\"start_lat\").cast(\"double\")) \\\n",
        "    .withColumn(\"start_lng\", col(\"start_lng\").cast(\"double\")) \\\n",
        "    .withColumn(\"end_lat\", col(\"end_lat\").cast(\"double\")) \\\n",
        "    .withColumn(\"end_lng\", col(\"end_lng\").cast(\"double\")) \\\n",
        "    .withColumn(\"duration_sec\", col(\"duration_sec\").cast(\"double\")) \\\n",
        "    .withColumn(\"birth_year\", col(\"birth_year\").cast(\"int\")) \\\n",
        "    .withColumn(\"gender\", col(\"gender\").cast(\"int\")) \\\n",
        "    .withColumn(\"postal_code\", col(\"postal_code\").cast(\"string\"))  # opcional por consistencia\n",
        "\n",
        "# Recalcular duración\n",
        "from pyspark.sql.functions import unix_timestamp\n",
        "#calcular duración en segundos\n",
        "df_spark = df_spark.withColumn(\n",
        "    \"duration_sec\",\n",
        "    unix_timestamp(\"ended_at\") - unix_timestamp(\"started_at\")\n",
        ")\n"
      ]
    },
    {
      "cell_type": "markdown",
      "metadata": {
        "id": "ELRcIAF_tpEg"
      },
      "source": [
        "# Verificar Valores NULL"
      ]
    },
    {
      "cell_type": "markdown",
      "metadata": {
        "id": "UoqsUhQRtpEg"
      },
      "source": [
        "Tenemos una cantidad importante de valores null en birth_year,gender,postal_code y rideable_type.\n",
        "\n",
        "Las columnas birth_year y gender no se puede hacer mucho para tratar estos valores debido a la gran cantidad de valores.\n",
        "\n",
        "Postal code podemos omitirlo porque contamos con las coordenadas que pueden darnos informacion relevante.\n",
        "\n",
        "Rideable type podemos intentar revisar mas a profundidad si podemos trabajar con estos valores."
      ]
    },
    {
      "cell_type": "code",
      "execution_count": 5,
      "metadata": {
        "colab": {
          "base_uri": "https://localhost:8080/"
        },
        "id": "66M3PPK1tpEg",
        "outputId": "79319087-6eeb-4ed5-957c-f2c2f8299bd5"
      },
      "outputs": [
        {
          "data": {
            "text/html": [
              "<div>\n",
              "<style scoped>\n",
              "    .dataframe tbody tr th:only-of-type {\n",
              "        vertical-align: middle;\n",
              "    }\n",
              "\n",
              "    .dataframe tbody tr th {\n",
              "        vertical-align: top;\n",
              "    }\n",
              "\n",
              "    .dataframe thead th {\n",
              "        text-align: right;\n",
              "    }\n",
              "</style>\n",
              "<table border=\"1\" class=\"dataframe\">\n",
              "  <thead>\n",
              "    <tr style=\"text-align: right;\">\n",
              "      <th></th>\n",
              "      <th>nulos</th>\n",
              "      <th>% nulos</th>\n",
              "    </tr>\n",
              "    <tr>\n",
              "      <th>columna</th>\n",
              "      <th></th>\n",
              "      <th></th>\n",
              "    </tr>\n",
              "  </thead>\n",
              "  <tbody>\n",
              "    <tr>\n",
              "      <th>birth_year</th>\n",
              "      <td>19377092</td>\n",
              "      <td>71.59</td>\n",
              "    </tr>\n",
              "    <tr>\n",
              "      <th>gender</th>\n",
              "      <td>18686522</td>\n",
              "      <td>69.04</td>\n",
              "    </tr>\n",
              "    <tr>\n",
              "      <th>postal_code</th>\n",
              "      <td>18253759</td>\n",
              "      <td>67.44</td>\n",
              "    </tr>\n",
              "    <tr>\n",
              "      <th>rideable_type</th>\n",
              "      <td>17220537</td>\n",
              "      <td>63.63</td>\n",
              "    </tr>\n",
              "    <tr>\n",
              "      <th>end_station_id</th>\n",
              "      <td>29036</td>\n",
              "      <td>0.11</td>\n",
              "    </tr>\n",
              "    <tr>\n",
              "      <th>end_station_name</th>\n",
              "      <td>28417</td>\n",
              "      <td>0.10</td>\n",
              "    </tr>\n",
              "    <tr>\n",
              "      <th>end_lat</th>\n",
              "      <td>21830</td>\n",
              "      <td>0.08</td>\n",
              "    </tr>\n",
              "    <tr>\n",
              "      <th>end_lng</th>\n",
              "      <td>21830</td>\n",
              "      <td>0.08</td>\n",
              "    </tr>\n",
              "    <tr>\n",
              "      <th>start_station_id</th>\n",
              "      <td>2033</td>\n",
              "      <td>0.01</td>\n",
              "    </tr>\n",
              "    <tr>\n",
              "      <th>start_station_name</th>\n",
              "      <td>2033</td>\n",
              "      <td>0.01</td>\n",
              "    </tr>\n",
              "    <tr>\n",
              "      <th>start_lat</th>\n",
              "      <td>0</td>\n",
              "      <td>0.00</td>\n",
              "    </tr>\n",
              "    <tr>\n",
              "      <th>schema_version</th>\n",
              "      <td>0</td>\n",
              "      <td>0.00</td>\n",
              "    </tr>\n",
              "    <tr>\n",
              "      <th>member_casual</th>\n",
              "      <td>0</td>\n",
              "      <td>0.00</td>\n",
              "    </tr>\n",
              "    <tr>\n",
              "      <th>started_at</th>\n",
              "      <td>0</td>\n",
              "      <td>0.00</td>\n",
              "    </tr>\n",
              "    <tr>\n",
              "      <th>ended_at</th>\n",
              "      <td>0</td>\n",
              "      <td>0.00</td>\n",
              "    </tr>\n",
              "    <tr>\n",
              "      <th>start_lng</th>\n",
              "      <td>0</td>\n",
              "      <td>0.00</td>\n",
              "    </tr>\n",
              "    <tr>\n",
              "      <th>ride_id</th>\n",
              "      <td>0</td>\n",
              "      <td>0.00</td>\n",
              "    </tr>\n",
              "    <tr>\n",
              "      <th>duration_sec</th>\n",
              "      <td>0</td>\n",
              "      <td>0.00</td>\n",
              "    </tr>\n",
              "    <tr>\n",
              "      <th>periodo</th>\n",
              "      <td>0</td>\n",
              "      <td>0.00</td>\n",
              "    </tr>\n",
              "  </tbody>\n",
              "</table>\n",
              "</div>"
            ],
            "text/plain": [
              "                       nulos  % nulos\n",
              "columna                              \n",
              "birth_year          19377092    71.59\n",
              "gender              18686522    69.04\n",
              "postal_code         18253759    67.44\n",
              "rideable_type       17220537    63.63\n",
              "end_station_id         29036     0.11\n",
              "end_station_name       28417     0.10\n",
              "end_lat                21830     0.08\n",
              "end_lng                21830     0.08\n",
              "start_station_id        2033     0.01\n",
              "start_station_name      2033     0.01\n",
              "start_lat                  0     0.00\n",
              "schema_version             0     0.00\n",
              "member_casual              0     0.00\n",
              "started_at                 0     0.00\n",
              "ended_at                   0     0.00\n",
              "start_lng                  0     0.00\n",
              "ride_id                    0     0.00\n",
              "duration_sec               0     0.00\n",
              "periodo                    0     0.00"
            ]
          },
          "metadata": {},
          "output_type": "display_data"
        }
      ],
      "source": [
        "from pyspark.sql.functions import col, sum, when, isnan, count\n",
        "from pyspark.sql.types import NumericType\n",
        "\n",
        "# Total de registros\n",
        "total_rows = df_spark.count()\n",
        "\n",
        "# Identificar columnas por tipo\n",
        "numeric_cols = [f.name for f in df_spark.schema.fields if isinstance(f.dataType, NumericType)]\n",
        "other_cols = [f.name for f in df_spark.schema.fields if f.name not in numeric_cols]\n",
        "\n",
        "# Armar expresiones seguras\n",
        "null_counts_expr = []\n",
        "for c in numeric_cols:\n",
        "    null_counts_expr.append(\n",
        "        sum(when(col(c).isNull() | isnan(col(c)), 1).otherwise(0)).alias(c)\n",
        "    )\n",
        "for c in other_cols:\n",
        "    null_counts_expr.append(\n",
        "        sum(when(col(c).isNull() | (col(c) == \"\"), 1).otherwise(0)).alias(c)\n",
        "    )\n",
        "\n",
        "# Obtener conteo de nulos\n",
        "null_counts = df_spark.select(null_counts_expr).toPandas().T\n",
        "null_counts.columns = ['nulos']\n",
        "null_counts.index.name = 'columna'\n",
        "\n",
        "# Calcular % de nulos\n",
        "null_counts['% nulos'] = (null_counts['nulos'] / total_rows * 100).round(2)\n",
        "\n",
        "# Mostrar ordenado por mayor % de nulos\n",
        "null_counts = null_counts.sort_values('% nulos', ascending=False)\n",
        "\n",
        "# Mostrar\n",
        "import pandas as pd\n",
        "from IPython.display import display\n",
        "display(null_counts)"
      ]
    },
    {
      "cell_type": "markdown",
      "metadata": {
        "id": "eE9PdpNftpEh"
      },
      "source": [
        "El schema mas reciente contiene informacion del rideable_type"
      ]
    },
    {
      "cell_type": "code",
      "execution_count": 6,
      "metadata": {
        "colab": {
          "base_uri": "https://localhost:8080/"
        },
        "id": "qaszKodrtpEh",
        "outputId": "49430f09-9bf5-4232-debf-04cbed245ec6"
      },
      "outputs": [
        {
          "name": "stdout",
          "output_type": "stream",
          "text": [
            "+--------------+-------+\n",
            "|schema_version|  nulos|\n",
            "+--------------+-------+\n",
            "|       schema1|8379088|\n",
            "|       schema3|8841449|\n",
            "+--------------+-------+\n",
            "\n"
          ]
        }
      ],
      "source": [
        "from pyspark.sql import functions as F\n",
        "\n",
        "df_spark.filter(F.col(\"rideable_type\").isNull()) \\\n",
        "    .groupBy(\"schema_version\") \\\n",
        "    .agg(F.count(\"*\").alias(\"nulos\")) \\\n",
        "    .orderBy(\"schema_version\") \\\n",
        "    .show()\n"
      ]
    },
    {
      "cell_type": "markdown",
      "metadata": {
        "id": "BiXtEO9stpEh"
      },
      "source": [
        "podriamos asumir como docked_bike por el hecho que antes era necesario alquilar las bicicletas desde un dock."
      ]
    },
    {
      "cell_type": "code",
      "execution_count": 7,
      "metadata": {
        "colab": {
          "base_uri": "https://localhost:8080/"
        },
        "id": "XLmR2lZ6tpEh",
        "outputId": "333fc348-efcf-45ef-f93d-e7828840ad76"
      },
      "outputs": [
        {
          "name": "stdout",
          "output_type": "stream",
          "text": [
            "+-------------+--------+\n",
            "|rideable_type|count   |\n",
            "+-------------+--------+\n",
            "|NULL         |17220537|\n",
            "|classic_bike |5032444 |\n",
            "|docked_bike  |3031495 |\n",
            "|electric_bike|1781134 |\n",
            "+-------------+--------+\n",
            "\n"
          ]
        }
      ],
      "source": [
        "df_spark.groupBy(\"rideable_type\").count().orderBy(\"count\", ascending=False).show(truncate=False)\n"
      ]
    },
    {
      "cell_type": "markdown",
      "metadata": {
        "id": "0d8V6ts_tpEh"
      },
      "source": [
        "Los registros sin estación de inicio o fin pertenecen exclusivamente al schema2,lo cual sugiere que en los años más recientes ya no es obligatorio usar estaciones fijas para alquilar o devolver bicicleta\n"
      ]
    },
    {
      "cell_type": "code",
      "execution_count": 8,
      "metadata": {
        "colab": {
          "base_uri": "https://localhost:8080/"
        },
        "id": "cWHCbXNXtpEh",
        "outputId": "3a5c3743-1d4f-4dac-dce0-d27211fe9a0b"
      },
      "outputs": [
        {
          "name": "stdout",
          "output_type": "stream",
          "text": [
            "+--------------+-----+\n",
            "|schema_version|count|\n",
            "+--------------+-----+\n",
            "|       schema2|30447|\n",
            "+--------------+-----+\n",
            "\n"
          ]
        }
      ],
      "source": [
        "#los registros sin estación de inicio o fin pertenecen exclusivamente al schema2,\n",
        "# lo cual sugiere que en los años más recientes ya no es obligatorio usar estaciones fijas para alquilar o devolver bicicleta\n",
        "df_spark.filter(\n",
        "    (col(\"start_station_id\").isNull()) | (col(\"end_station_id\").isNull())\n",
        ").groupBy(\"schema_version\").count().show()"
      ]
    },
    {
      "cell_type": "markdown",
      "metadata": {
        "id": "MOub_yoVsNiJ"
      },
      "source": [
        "# Tratamiento de valores NULL"
      ]
    },
    {
      "cell_type": "markdown",
      "metadata": {
        "id": "vhknQfwDtpEi"
      },
      "source": [
        "Se eliminaron columnas que tienen demaciados valores faltantes"
      ]
    },
    {
      "cell_type": "code",
      "execution_count": 9,
      "metadata": {
        "id": "LwcfX7rPsL6F"
      },
      "outputs": [],
      "source": [
        "columnas_a_eliminar = [\"start_station_id\",\"end_station_id\",\"birth_year\", \"gender\", \"postal_code\"]\n",
        "\n",
        "df_spark = df_spark.drop(*columnas_a_eliminar)\n"
      ]
    },
    {
      "cell_type": "markdown",
      "metadata": {
        "id": "23ow2e3LtpEi"
      },
      "source": [
        "Se setearon los null de rideable type al tipo docked por requerimiento de negocio"
      ]
    },
    {
      "cell_type": "code",
      "execution_count": 10,
      "metadata": {
        "id": "i_5HqBMXtpEi"
      },
      "outputs": [],
      "source": [
        "from pyspark.sql import functions as F\n",
        "\n",
        "df_spark = df_spark.withColumn(\n",
        "    \"rideable_type\",\n",
        "    F.when(F.col(\"rideable_type\").isNull(), \"docked_bike\")\n",
        "     .otherwise(F.col(\"rideable_type\"))\n",
        ")\n"
      ]
    },
    {
      "cell_type": "markdown",
      "metadata": {
        "id": "7-CaBJsatpEi"
      },
      "source": [
        "Se setearon los valores null de las estaciones por la evolucion del negocio, ya no es necesario solo alquilar por dock"
      ]
    },
    {
      "cell_type": "code",
      "execution_count": 11,
      "metadata": {
        "id": "EbhbyzYo1Xkl"
      },
      "outputs": [],
      "source": [
        "from pyspark.sql.functions import when\n",
        "\n",
        "df_spark = df_spark \\\n",
        "    .withColumn(\"start_station_name\", when(col(\"start_station_name\").isNull(), \"Dockless start\").otherwise(col(\"start_station_name\"))) \\\n",
        "    .withColumn(\"end_station_name\", when(col(\"end_station_name\").isNull(), \"Dockless end\").otherwise(col(\"end_station_name\")))\n"
      ]
    },
    {
      "cell_type": "code",
      "execution_count": 12,
      "metadata": {
        "colab": {
          "base_uri": "https://localhost:8080/"
        },
        "id": "yUzAf-K6ysbq",
        "outputId": "6c3a3193-bca1-49eb-c2bd-bd1f003440c7"
      },
      "outputs": [
        {
          "name": "stdout",
          "output_type": "stream",
          "text": [
            "+--------------+-----+\n",
            "|schema_version|count|\n",
            "+--------------+-----+\n",
            "|       schema1|    1|\n",
            "|       schema2|21829|\n",
            "+--------------+-----+\n",
            "\n"
          ]
        }
      ],
      "source": [
        "df_spark.filter(\n",
        "    col(\"end_lat\").isNull() | col(\"end_lng\").isNull()\n",
        ").groupBy(\"schema_version\").count().show()\n"
      ]
    },
    {
      "cell_type": "markdown",
      "metadata": {
        "id": "_yw_ZkLAtpEi"
      },
      "source": [
        "Se limpiaron los registros que no tenian cordenadas finales, no representan un numero que pueda afecatr analisis o modelos en un futuro."
      ]
    },
    {
      "cell_type": "code",
      "execution_count": 13,
      "metadata": {
        "colab": {
          "base_uri": "https://localhost:8080/"
        },
        "id": "BRJe4BZr6tq5",
        "outputId": "6c8f5729-8b58-4e5f-ee6a-ee4789594806"
      },
      "outputs": [
        {
          "name": "stdout",
          "output_type": "stream",
          "text": [
            "🔎 Registros eliminados por falta de coordenadas finales: 21830\n"
          ]
        }
      ],
      "source": [
        "total_antes = df_spark.count()\n",
        "\n",
        "# Reaplicar la limpieza\n",
        "df_spark = df_spark.filter(\n",
        "    col(\"end_lat\").isNotNull() & col(\"end_lng\").isNotNull()\n",
        ")\n",
        "\n",
        "total_despues = df_spark.count()\n",
        "eliminados = total_antes - total_despues\n",
        "print(f\"🔎 Registros eliminados por falta de coordenadas finales: {eliminados}\")\n",
        "\n"
      ]
    },
    {
      "cell_type": "markdown",
      "metadata": {
        "id": "dnSLSlS7tpEi"
      },
      "source": [
        "## Resumen despues de limpieza"
      ]
    },
    {
      "cell_type": "code",
      "execution_count": 14,
      "metadata": {
        "colab": {
          "base_uri": "https://localhost:8080/"
        },
        "id": "56gXv8BP-eky",
        "outputId": "4c4bc3f7-0089-43fc-bb0f-e782dd7bd333"
      },
      "outputs": [
        {
          "data": {
            "text/html": [
              "<div>\n",
              "<style scoped>\n",
              "    .dataframe tbody tr th:only-of-type {\n",
              "        vertical-align: middle;\n",
              "    }\n",
              "\n",
              "    .dataframe tbody tr th {\n",
              "        vertical-align: top;\n",
              "    }\n",
              "\n",
              "    .dataframe thead th {\n",
              "        text-align: right;\n",
              "    }\n",
              "</style>\n",
              "<table border=\"1\" class=\"dataframe\">\n",
              "  <thead>\n",
              "    <tr style=\"text-align: right;\">\n",
              "      <th></th>\n",
              "      <th>nulos</th>\n",
              "      <th>% nulos</th>\n",
              "    </tr>\n",
              "    <tr>\n",
              "      <th>columna</th>\n",
              "      <th></th>\n",
              "      <th></th>\n",
              "    </tr>\n",
              "  </thead>\n",
              "  <tbody>\n",
              "    <tr>\n",
              "      <th>start_lat</th>\n",
              "      <td>0</td>\n",
              "      <td>0.0</td>\n",
              "    </tr>\n",
              "    <tr>\n",
              "      <th>start_lng</th>\n",
              "      <td>0</td>\n",
              "      <td>0.0</td>\n",
              "    </tr>\n",
              "    <tr>\n",
              "      <th>end_lat</th>\n",
              "      <td>0</td>\n",
              "      <td>0.0</td>\n",
              "    </tr>\n",
              "    <tr>\n",
              "      <th>end_lng</th>\n",
              "      <td>0</td>\n",
              "      <td>0.0</td>\n",
              "    </tr>\n",
              "    <tr>\n",
              "      <th>duration_sec</th>\n",
              "      <td>0</td>\n",
              "      <td>0.0</td>\n",
              "    </tr>\n",
              "    <tr>\n",
              "      <th>ride_id</th>\n",
              "      <td>0</td>\n",
              "      <td>0.0</td>\n",
              "    </tr>\n",
              "    <tr>\n",
              "      <th>rideable_type</th>\n",
              "      <td>0</td>\n",
              "      <td>0.0</td>\n",
              "    </tr>\n",
              "    <tr>\n",
              "      <th>started_at</th>\n",
              "      <td>0</td>\n",
              "      <td>0.0</td>\n",
              "    </tr>\n",
              "    <tr>\n",
              "      <th>ended_at</th>\n",
              "      <td>0</td>\n",
              "      <td>0.0</td>\n",
              "    </tr>\n",
              "    <tr>\n",
              "      <th>start_station_name</th>\n",
              "      <td>0</td>\n",
              "      <td>0.0</td>\n",
              "    </tr>\n",
              "    <tr>\n",
              "      <th>end_station_name</th>\n",
              "      <td>0</td>\n",
              "      <td>0.0</td>\n",
              "    </tr>\n",
              "    <tr>\n",
              "      <th>member_casual</th>\n",
              "      <td>0</td>\n",
              "      <td>0.0</td>\n",
              "    </tr>\n",
              "    <tr>\n",
              "      <th>schema_version</th>\n",
              "      <td>0</td>\n",
              "      <td>0.0</td>\n",
              "    </tr>\n",
              "    <tr>\n",
              "      <th>periodo</th>\n",
              "      <td>0</td>\n",
              "      <td>0.0</td>\n",
              "    </tr>\n",
              "  </tbody>\n",
              "</table>\n",
              "</div>"
            ],
            "text/plain": [
              "                    nulos  % nulos\n",
              "columna                           \n",
              "start_lat               0      0.0\n",
              "start_lng               0      0.0\n",
              "end_lat                 0      0.0\n",
              "end_lng                 0      0.0\n",
              "duration_sec            0      0.0\n",
              "ride_id                 0      0.0\n",
              "rideable_type           0      0.0\n",
              "started_at              0      0.0\n",
              "ended_at                0      0.0\n",
              "start_station_name      0      0.0\n",
              "end_station_name        0      0.0\n",
              "member_casual           0      0.0\n",
              "schema_version          0      0.0\n",
              "periodo                 0      0.0"
            ]
          },
          "metadata": {},
          "output_type": "display_data"
        }
      ],
      "source": [
        "from pyspark.sql.functions import col, sum, when, isnan, count\n",
        "from pyspark.sql.types import NumericType\n",
        "\n",
        "# Total de registros\n",
        "total_rows = df_spark.count()\n",
        "\n",
        "# Identificar columnas por tipo\n",
        "numeric_cols = [f.name for f in df_spark.schema.fields if isinstance(f.dataType, NumericType)]\n",
        "other_cols = [f.name for f in df_spark.schema.fields if f.name not in numeric_cols]\n",
        "\n",
        "# Armar expresiones seguras\n",
        "null_counts_expr = []\n",
        "for c in numeric_cols:\n",
        "    null_counts_expr.append(\n",
        "        sum(when(col(c).isNull() | isnan(col(c)), 1).otherwise(0)).alias(c)\n",
        "    )\n",
        "for c in other_cols:\n",
        "    null_counts_expr.append(\n",
        "        sum(when(col(c).isNull() | (col(c) == \"\"), 1).otherwise(0)).alias(c)\n",
        "    )\n",
        "\n",
        "# Obtener conteo de nulos\n",
        "null_counts = df_spark.select(null_counts_expr).toPandas().T\n",
        "null_counts.columns = ['nulos']\n",
        "null_counts.index.name = 'columna'\n",
        "\n",
        "# Calcular % de nulos\n",
        "null_counts['% nulos'] = (null_counts['nulos'] / total_rows * 100).round(2)\n",
        "\n",
        "# Mostrar ordenado por mayor % de nulos\n",
        "null_counts = null_counts.sort_values('% nulos', ascending=False)\n",
        "\n",
        "# Mostrar\n",
        "import pandas as pd\n",
        "from IPython.display import display\n",
        "display(null_counts)\n",
        "\n"
      ]
    },
    {
      "cell_type": "markdown",
      "metadata": {
        "id": "Y7yfeoEqtpEj"
      },
      "source": [
        "# EDA por variables"
      ]
    },
    {
      "cell_type": "code",
      "execution_count": 15,
      "metadata": {
        "colab": {
          "base_uri": "https://localhost:8080/"
        },
        "id": "2cH7gJvVtpEj",
        "outputId": "472f840d-9e15-48fe-f065-ae789125f482"
      },
      "outputs": [
        {
          "data": {
            "text/plain": [
              "['ride_id',\n",
              " 'rideable_type',\n",
              " 'started_at',\n",
              " 'ended_at',\n",
              " 'start_station_name',\n",
              " 'start_lat',\n",
              " 'start_lng',\n",
              " 'end_station_name',\n",
              " 'end_lat',\n",
              " 'end_lng',\n",
              " 'member_casual',\n",
              " 'duration_sec',\n",
              " 'schema_version',\n",
              " 'periodo']"
            ]
          },
          "execution_count": 15,
          "metadata": {},
          "output_type": "execute_result"
        }
      ],
      "source": [
        "df_spark.columns"
      ]
    },
    {
      "cell_type": "markdown",
      "metadata": {
        "id": "-zzEBI56tpEj"
      },
      "source": [
        "## EDA duration_sec"
      ]
    },
    {
      "cell_type": "markdown",
      "metadata": {
        "id": "s3OtCd11tpEj"
      },
      "source": [
        "Eliminar todo viaje menor a 60 seg que puede ensuciar los datos"
      ]
    },
    {
      "cell_type": "code",
      "execution_count": 16,
      "metadata": {
        "colab": {
          "base_uri": "https://localhost:8080/"
        },
        "id": "M2np1OqztpEj",
        "outputId": "32dd80cb-09c6-489e-d0a2-fbe2847eb7d4"
      },
      "outputs": [
        {
          "name": "stdout",
          "output_type": "stream",
          "text": [
            "🚲 Viajes menores a 60 segundos: 40358\n"
          ]
        }
      ],
      "source": [
        "import pyspark.sql.functions as F\n",
        "\n",
        "# Contar viajes menores a 60 segundos\n",
        "viajes_menores_60 = df_spark.filter(F.col(\"duration_sec\") < 60).count()\n",
        "\n",
        "print(f\"🚲 Viajes menores a 60 segundos: {viajes_menores_60}\")\n"
      ]
    },
    {
      "cell_type": "code",
      "execution_count": 17,
      "metadata": {
        "colab": {
          "base_uri": "https://localhost:8080/"
        },
        "id": "sCZ85Sk9tpEj",
        "outputId": "75a92e27-204b-4c46-998a-1eb24a8e7b96"
      },
      "outputs": [
        {
          "name": "stdout",
          "output_type": "stream",
          "text": [
            "✅ Registros con duración menor a 60 segundos eliminados.\n",
            "📊 Total de registros ahora: 27003422\n"
          ]
        }
      ],
      "source": [
        "from pyspark.sql.functions import col\n",
        "\n",
        "# Filtrar solo viajes de 60 segundos o más\n",
        "df_spark = df_spark.filter(col(\"duration_sec\") >= 60)\n",
        "\n",
        "print(\"✅ Registros con duración menor a 60 segundos eliminados.\")\n",
        "print(f\"📊 Total de registros ahora: {df_spark.count()}\")\n",
        "\n"
      ]
    },
    {
      "cell_type": "markdown",
      "metadata": {
        "id": "NogsKwKsG4zS"
      },
      "source": [
        "### Utilizando reglas de negocio para definir outliers"
      ]
    },
    {
      "cell_type": "code",
      "execution_count": 18,
      "metadata": {
        "colab": {
          "base_uri": "https://localhost:8080/",
          "height": 300
        },
        "id": "7HzLRaEktpEj",
        "outputId": "87965d50-3109-4ebb-e56e-2c4a436fd413"
      },
      "outputs": [
        {
          "data": {
            "text/html": [
              "<div>\n",
              "<style scoped>\n",
              "    .dataframe tbody tr th:only-of-type {\n",
              "        vertical-align: middle;\n",
              "    }\n",
              "\n",
              "    .dataframe tbody tr th {\n",
              "        vertical-align: top;\n",
              "    }\n",
              "\n",
              "    .dataframe thead th {\n",
              "        text-align: right;\n",
              "    }\n",
              "</style>\n",
              "<table border=\"1\" class=\"dataframe\">\n",
              "  <thead>\n",
              "    <tr style=\"text-align: right;\">\n",
              "      <th></th>\n",
              "      <th>bin_label</th>\n",
              "      <th>count</th>\n",
              "      <th>pct</th>\n",
              "    </tr>\n",
              "  </thead>\n",
              "  <tbody>\n",
              "    <tr>\n",
              "      <th>0</th>\n",
              "      <td>0–30 min</td>\n",
              "      <td>24072068</td>\n",
              "      <td>89.14</td>\n",
              "    </tr>\n",
              "    <tr>\n",
              "      <th>1</th>\n",
              "      <td>30–45 min</td>\n",
              "      <td>1669216</td>\n",
              "      <td>6.18</td>\n",
              "    </tr>\n",
              "    <tr>\n",
              "      <th>2</th>\n",
              "      <td>45–60 min</td>\n",
              "      <td>490552</td>\n",
              "      <td>1.82</td>\n",
              "    </tr>\n",
              "    <tr>\n",
              "      <th>3</th>\n",
              "      <td>1–2 h</td>\n",
              "      <td>583348</td>\n",
              "      <td>2.16</td>\n",
              "    </tr>\n",
              "    <tr>\n",
              "      <th>4</th>\n",
              "      <td>2–6 h</td>\n",
              "      <td>135336</td>\n",
              "      <td>0.50</td>\n",
              "    </tr>\n",
              "    <tr>\n",
              "      <th>5</th>\n",
              "      <td>6–12 h</td>\n",
              "      <td>16728</td>\n",
              "      <td>0.06</td>\n",
              "    </tr>\n",
              "    <tr>\n",
              "      <th>6</th>\n",
              "      <td>12–24 h</td>\n",
              "      <td>16875</td>\n",
              "      <td>0.06</td>\n",
              "    </tr>\n",
              "    <tr>\n",
              "      <th>7</th>\n",
              "      <td>&gt;24 h</td>\n",
              "      <td>19299</td>\n",
              "      <td>0.07</td>\n",
              "    </tr>\n",
              "  </tbody>\n",
              "</table>\n",
              "</div>"
            ],
            "text/plain": [
              "   bin_label     count    pct\n",
              "0   0–30 min  24072068  89.14\n",
              "1  30–45 min   1669216   6.18\n",
              "2  45–60 min    490552   1.82\n",
              "3      1–2 h    583348   2.16\n",
              "4      2–6 h    135336   0.50\n",
              "5     6–12 h     16728   0.06\n",
              "6    12–24 h     16875   0.06\n",
              "7      >24 h     19299   0.07"
            ]
          },
          "execution_count": 18,
          "metadata": {},
          "output_type": "execute_result"
        }
      ],
      "source": [
        "import pyspark.sql.functions as F\n",
        "from pyspark.ml.feature import Bucketizer\n",
        "import pandas as pd\n",
        "\n",
        "# Splits por política (en segundos)\n",
        "splits_policy = [\n",
        "    float(\"-inf\"),  # requerido por Bucketizer\n",
        "    1800,           # 30 min\n",
        "    2700,           # 45 min\n",
        "    3600,           # 60 min\n",
        "    7200,           # 1–2 h\n",
        "    21600,          # 2–6 h\n",
        "    43200,          # 6–12 h\n",
        "    86400,          # 12–24 h\n",
        "    float(\"inf\")    # >24 h\n",
        "]\n",
        "labels_policy = [\n",
        "    \"0–30 min\",\n",
        "    \"30–45 min\",\n",
        "    \"45–60 min\",\n",
        "    \"1–2 h\",\n",
        "    \"2–6 h\",\n",
        "    \"6–12 h\",\n",
        "    \"12–24 h\",\n",
        "    \">24 h\"\n",
        "]\n",
        "\n",
        "# Bucketizer\n",
        "bucketizer = Bucketizer(\n",
        "    splits=splits_policy,\n",
        "    inputCol=\"duration_sec\",\n",
        "    outputCol=\"duration_bin_policy\"\n",
        ")\n",
        "df_binned = bucketizer.transform(df_spark)\n",
        "\n",
        "# Conteo y porcentaje\n",
        "total = df_binned.count()\n",
        "bins_count = (\n",
        "    df_binned\n",
        "    .groupBy(\"duration_bin_policy\").count()\n",
        "    .orderBy(\"duration_bin_policy\")\n",
        "    .withColumn(\"pct\", F.round(F.col(\"count\")/F.lit(total)*100, 2))\n",
        ")\n",
        "\n",
        "# Map de etiquetas\n",
        "label_map = spark.createDataFrame(\n",
        "    [(float(i), labels_policy[i]) for i in range(len(labels_policy))],\n",
        "    [\"duration_bin_policy\",\"bin_label\"]\n",
        ")\n",
        "\n",
        "# Unir y pasar a pandas\n",
        "df_bins_policy_spark = (\n",
        "    bins_count\n",
        "    .join(label_map, \"duration_bin_policy\", \"left\")\n",
        "    .select(\"bin_label\",\"count\",\"pct\")\n",
        "    .orderBy(\"duration_bin_policy\")\n",
        ")\n",
        "\n",
        "df_bins_policy = df_bins_policy_spark.toPandas()\n",
        "\n",
        "# Mostrar para validar\n",
        "df_bins_policy\n"
      ]
    },
    {
      "cell_type": "code",
      "execution_count": 19,
      "metadata": {
        "colab": {
          "base_uri": "https://localhost:8080/",
          "height": 631
        },
        "id": "E1LF5oXWA3GM",
        "outputId": "58098713-91e8-427f-b40f-437f59529a75"
      },
      "outputs": [
        {
          "name": "stderr",
          "output_type": "stream",
          "text": [
            "C:\\Users\\Nicolas Oporto\\AppData\\Local\\Temp\\ipykernel_14272\\3310690979.py:15: FutureWarning: \n",
            "\n",
            "Passing `palette` without assigning `hue` is deprecated and will be removed in v0.14.0. Assign the `x` variable to `hue` and set `legend=False` for the same effect.\n",
            "\n",
            "  sns.barplot(data=df_bins_policy, x=\"bin_label\", y=\"count\", order=order, ax=axes[0], palette=\"Blues_d\")\n",
            "C:\\Users\\Nicolas Oporto\\AppData\\Local\\Temp\\ipykernel_14272\\3310690979.py:22: FutureWarning: \n",
            "\n",
            "Passing `palette` without assigning `hue` is deprecated and will be removed in v0.14.0. Assign the `x` variable to `hue` and set `legend=False` for the same effect.\n",
            "\n",
            "  sns.barplot(data=df_bins_policy, x=\"bin_label\", y=\"pct\", order=order, ax=axes[1], palette=\"Greens_d\")\n"
          ]
        },
        {
          "data": {
            "image/png": "[encoded data removed]",
            "text/plain": [
              "<Figure size 1400x500 with 2 Axes>"
            ]
          },
          "metadata": {},
          "output_type": "display_data"
        }
      ],
      "source": [
        "import matplotlib.pyplot as plt\n",
        "import seaborn as sns\n",
        "\n",
        "# Configuración de estilo\n",
        "sns.set(style=\"whitegrid\")\n",
        "fig, axes = plt.subplots(1, 2, figsize=(14, 5))\n",
        "\n",
        "# Orden para asegurar que los bins salgan en secuencia lógica\n",
        "order = [\n",
        "    \"0–30 min\", \"30–45 min\", \"45–60 min\",\n",
        "    \"1–2 h\", \"2–6 h\", \"6–12 h\", \"12–24 h\", \">24 h\"\n",
        "]\n",
        "\n",
        "# --- Gráfico 1: Conteo absoluto ---\n",
        "sns.barplot(data=df_bins_policy, x=\"bin_label\", y=\"count\", order=order, ax=axes[0], palette=\"Blues_d\")\n",
        "axes[0].set_title(\"Cantidad de viajes por rango de duración\")\n",
        "axes[0].set_xlabel(\"Duración del viaje\")\n",
        "axes[0].set_ylabel(\"Cantidad de viajes\")\n",
        "axes[0].tick_params(axis='x', rotation=45)\n",
        "\n",
        "# --- Gráfico 2: Porcentaje ---\n",
        "sns.barplot(data=df_bins_policy, x=\"bin_label\", y=\"pct\", order=order, ax=axes[1], palette=\"Greens_d\")\n",
        "axes[1].set_title(\"Porcentaje de viajes por rango de duración\")\n",
        "axes[1].set_xlabel(\"Duración del viaje\")\n",
        "axes[1].set_ylabel(\"Porcentaje (%)\")\n",
        "axes[1].tick_params(axis='x', rotation=45)\n",
        "\n",
        "# Ajustar layout\n",
        "plt.tight_layout()\n",
        "plt.show()\n"
      ]
    },
    {
      "cell_type": "code",
      "execution_count": 20,
      "metadata": {
        "colab": {
          "base_uri": "https://localhost:8080/"
        },
        "id": "sV5-PjKOEO5b",
        "outputId": "8b558097-df0d-4024-f612-ea3d363d3b56"
      },
      "outputs": [
        {
          "name": "stdout",
          "output_type": "stream",
          "text": [
            "Registros después de eliminar outliers: 26,984,123\n"
          ]
        }
      ],
      "source": [
        "import pyspark.sql.functions as F\n",
        "\n",
        "ABS_MAX_SEC = 24 * 60 * 60  # 86400 segundos\n",
        "\n",
        "# Filtrar directamente\n",
        "df_spark = df_spark.filter(F.col(\"duration_sec\") <= ABS_MAX_SEC)\n",
        "\n",
        "print(f\"Registros después de eliminar outliers: {df_spark.count():,}\")\n",
        "\n"
      ]
    },
    {
      "cell_type": "markdown",
      "metadata": {
        "id": "FbvTGM-7HDUQ"
      },
      "source": [
        "### Identificando distribucion real de los datos"
      ]
    },
    {
      "cell_type": "code",
      "execution_count": 21,
      "metadata": {
        "id": "KLgqZ3PXGw1B"
      },
      "outputs": [
        {
          "data": {
            "text/html": [
              "<div>\n",
              "<style scoped>\n",
              "    .dataframe tbody tr th:only-of-type {\n",
              "        vertical-align: middle;\n",
              "    }\n",
              "\n",
              "    .dataframe tbody tr th {\n",
              "        vertical-align: top;\n",
              "    }\n",
              "\n",
              "    .dataframe thead th {\n",
              "        text-align: right;\n",
              "    }\n",
              "</style>\n",
              "<table border=\"1\" class=\"dataframe\">\n",
              "  <thead>\n",
              "    <tr style=\"text-align: right;\">\n",
              "      <th></th>\n",
              "      <th>bin_label</th>\n",
              "      <th>count</th>\n",
              "      <th>pct</th>\n",
              "    </tr>\n",
              "  </thead>\n",
              "  <tbody>\n",
              "    <tr>\n",
              "      <th>0</th>\n",
              "      <td>0–10 min</td>\n",
              "      <td>11310639</td>\n",
              "      <td>41.92</td>\n",
              "    </tr>\n",
              "    <tr>\n",
              "      <th>1</th>\n",
              "      <td>10–20 min</td>\n",
              "      <td>9142285</td>\n",
              "      <td>33.88</td>\n",
              "    </tr>\n",
              "    <tr>\n",
              "      <th>2</th>\n",
              "      <td>20–30 min</td>\n",
              "      <td>3619144</td>\n",
              "      <td>13.41</td>\n",
              "    </tr>\n",
              "    <tr>\n",
              "      <th>3</th>\n",
              "      <td>30–40 min</td>\n",
              "      <td>1326299</td>\n",
              "      <td>4.92</td>\n",
              "    </tr>\n",
              "    <tr>\n",
              "      <th>4</th>\n",
              "      <td>40–50 min</td>\n",
              "      <td>553614</td>\n",
              "      <td>2.05</td>\n",
              "    </tr>\n",
              "    <tr>\n",
              "      <th>5</th>\n",
              "      <td>50–60 min</td>\n",
              "      <td>279855</td>\n",
              "      <td>1.04</td>\n",
              "    </tr>\n",
              "    <tr>\n",
              "      <th>6</th>\n",
              "      <td>&gt;60 min</td>\n",
              "      <td>752287</td>\n",
              "      <td>2.79</td>\n",
              "    </tr>\n",
              "  </tbody>\n",
              "</table>\n",
              "</div>"
            ],
            "text/plain": [
              "   bin_label     count    pct\n",
              "0   0–10 min  11310639  41.92\n",
              "1  10–20 min   9142285  33.88\n",
              "2  20–30 min   3619144  13.41\n",
              "3  30–40 min   1326299   4.92\n",
              "4  40–50 min    553614   2.05\n",
              "5  50–60 min    279855   1.04\n",
              "6    >60 min    752287   2.79"
            ]
          },
          "execution_count": 21,
          "metadata": {},
          "output_type": "execute_result"
        }
      ],
      "source": [
        "import pyspark.sql.functions as F\n",
        "from pyspark.ml.feature import Bucketizer\n",
        "import pandas as pd\n",
        "\n",
        "# --- Splits cada 10 min y un último bin >60 min ---\n",
        "# en segundos: 10,20,30,40,50,60 minutos\n",
        "ten_min = 10 * 60\n",
        "splits_10m = [float(\"-inf\")] + [i * ten_min for i in range(1, 7)] + [float(\"inf\")]\n",
        "# -> [-inf, 600, 1200, 1800, 2400, 3000, 3600, inf]\n",
        "\n",
        "labels_10m = [f\"{i*10}–{(i+1)*10} min\" for i in range(6)] + [\">60 min\"]\n",
        "# -> [\"0–10 min\",\"10–20 min\",...,\"50–60 min\",\">60 min\"]\n",
        "\n",
        "# Bucketizer\n",
        "bucketizer = Bucketizer(\n",
        "    splits=splits_10m,\n",
        "    inputCol=\"duration_sec\",\n",
        "    outputCol=\"duration_bin_10m\"\n",
        ")\n",
        "df_binned = bucketizer.transform(df_spark)\n",
        "\n",
        "# Conteo y porcentaje por bin\n",
        "total = df_binned.count()\n",
        "bins_count = (\n",
        "    df_binned\n",
        "    .groupBy(\"duration_bin_10m\").count()\n",
        "    .orderBy(\"duration_bin_10m\")\n",
        "    .withColumn(\"pct\", F.round(F.col(\"count\")/F.lit(total)*100, 2))\n",
        ")\n",
        "\n",
        "# Map de etiquetas\n",
        "label_map = spark.createDataFrame(\n",
        "    [(float(i), labels_10m[i]) for i in range(len(labels_10m))],\n",
        "    [\"duration_bin_10m\", \"bin_label\"]\n",
        ")\n",
        "\n",
        "# Unir y pasar a pandas\n",
        "df_bins_10m_spark = (\n",
        "    bins_count\n",
        "    .join(label_map, \"duration_bin_10m\", \"left\")\n",
        "    .select(\"bin_label\", \"count\", \"pct\")\n",
        "    .orderBy(\"duration_bin_10m\")\n",
        ")\n",
        "\n",
        "df_bins_10m = df_bins_10m_spark.toPandas()\n",
        "\n",
        "# Vista rápida\n",
        "df_bins_10m\n"
      ]
    },
    {
      "cell_type": "code",
      "execution_count": 22,
      "metadata": {
        "id": "dMaMl9GbN3BQ"
      },
      "outputs": [
        {
          "name": "stderr",
          "output_type": "stream",
          "text": [
            "C:\\Users\\Nicolas Oporto\\AppData\\Local\\Temp\\ipykernel_14272\\994374659.py:14: FutureWarning: \n",
            "\n",
            "Passing `palette` without assigning `hue` is deprecated and will be removed in v0.14.0. Assign the `x` variable to `hue` and set `legend=False` for the same effect.\n",
            "\n",
            "  sns.barplot(data=df_bins_10m, x=\"bin_label\", y=\"count\", order=order, ax=axes[0], palette=\"Blues_d\")\n",
            "C:\\Users\\Nicolas Oporto\\AppData\\Local\\Temp\\ipykernel_14272\\994374659.py:21: FutureWarning: \n",
            "\n",
            "Passing `palette` without assigning `hue` is deprecated and will be removed in v0.14.0. Assign the `x` variable to `hue` and set `legend=False` for the same effect.\n",
            "\n",
            "  sns.barplot(data=df_bins_10m, x=\"bin_label\", y=\"pct\", order=order, ax=axes[1], palette=\"Greens_d\")\n"
          ]
        },
        {
          "data": {
            "image/png": "[encoded data removed]",
            "text/plain": [
              "<Figure size 1400x500 with 2 Axes>"
            ]
          },
          "metadata": {},
          "output_type": "display_data"
        }
      ],
      "source": [
        "import matplotlib.pyplot as plt\n",
        "import seaborn as sns\n",
        "\n",
        "# Configuración de estilo\n",
        "sns.set(style=\"whitegrid\")\n",
        "fig, axes = plt.subplots(1, 2, figsize=(14, 5))\n",
        "\n",
        "# Orden para asegurar que los bins salgan en secuencia lógica\n",
        "order = [\n",
        "    \"0–10 min\", \"10–20 min\", \"20–30 min\", \"30–40 min\", \"40–50 min\", \"50–60 min\", \">60 min\"\n",
        "]\n",
        "\n",
        "# --- Gráfico 1: Conteo absoluto ---\n",
        "sns.barplot(data=df_bins_10m, x=\"bin_label\", y=\"count\", order=order, ax=axes[0], palette=\"Blues_d\")\n",
        "axes[0].set_title(\"Cantidad de viajes por rango de duración (10 min bins)\")\n",
        "axes[0].set_xlabel(\"Duración del viaje\")\n",
        "axes[0].set_ylabel(\"Cantidad de viajes\")\n",
        "axes[0].tick_params(axis='x', rotation=45)\n",
        "\n",
        "# --- Gráfico 2: Porcentaje ---\n",
        "sns.barplot(data=df_bins_10m, x=\"bin_label\", y=\"pct\", order=order, ax=axes[1], palette=\"Greens_d\")\n",
        "axes[1].set_title(\"Porcentaje de viajes por rango de duración (10 min bins)\")\n",
        "axes[1].set_xlabel(\"Duración del viaje\")\n",
        "axes[1].set_ylabel(\"Porcentaje (%)\")\n",
        "axes[1].tick_params(axis='x', rotation=45)\n",
        "\n",
        "# Ajustar layout\n",
        "plt.tight_layout()\n",
        "plt.show()"
      ]
    },
    {
      "cell_type": "code",
      "execution_count": 23,
      "metadata": {},
      "outputs": [],
      "source": [
        "# ==== 1) Spark: bins extendidos y estadísticos reales ====\n",
        "import pyspark.sql.functions as F\n",
        "\n",
        "# Base en minutos (sin cap)\n",
        "df_min = (\n",
        "    df_spark\n",
        "    .select(F.col(\"duration_sec\").cast(\"double\").alias(\"duration_sec\"))\n",
        "    .where(F.col(\"duration_sec\").isNotNull())\n",
        "    .where(F.col(\"duration_sec\") >= 0)\n",
        "    .withColumn(\"duration_min\", F.floor(F.col(\"duration_sec\") / 60.0).cast(\"int\"))\n",
        ")\n",
        "\n",
        "# Bins: 0..60 por minuto, y luego rangos más anchos\n",
        "# 61: 61–90, 62: 91–120, 63: 121–180, 64: 181–240, 65: >240\n",
        "df_binned = (\n",
        "    df_min\n",
        "    .withColumn(\n",
        "        \"bin_key\",\n",
        "        F.when(F.col(\"duration_min\") <= 60, F.col(\"duration_min\"))\n",
        "         .when(F.col(\"duration_min\") <= 90,  F.lit(61))\n",
        "         .when(F.col(\"duration_min\") <= 120, F.lit(62))\n",
        "         .when(F.col(\"duration_min\") <= 180, F.lit(63))\n",
        "         .when(F.col(\"duration_min\") <= 240, F.lit(64))\n",
        "         .otherwise(F.lit(65))\n",
        "         .cast(\"int\")\n",
        "    )\n",
        ")\n",
        "\n",
        "# Conteo y %\n",
        "bins_count = df_binned.groupBy(\"bin_key\").count()\n",
        "total = bins_count.agg(F.sum(\"count\").alias(\"total\")).first()[\"total\"]\n",
        "bins_pct = bins_count.withColumn(\"pct\", F.round(F.col(\"count\")/F.lit(total)*100, 2))\n",
        "\n",
        "# Etiquetas\n",
        "labels = [(i, f\"{i} min\") for i in range(0, 61)] + [\n",
        "    (61, \"61–90 min\"), (62, \"91–120 min\"),\n",
        "    (63, \"121–180 min\"), (64, \"181–240 min\"), (65, \">240 min\")\n",
        "]\n",
        "label_df = spark.createDataFrame(labels, [\"bin_key\", \"bin_label\"])\n",
        "\n",
        "dist_ext_spark = (\n",
        "    bins_pct.join(label_df, \"bin_key\", \"left\")\n",
        "            .orderBy(\"bin_key\")\n",
        "            .select(\"bin_key\", \"bin_label\", \"count\", \"pct\")\n",
        ")\n",
        "\n",
        "# Estadísticos reales (sin cap)\n",
        "stats = df_min.agg(\n",
        "    F.avg(\"duration_min\").alias(\"mu\"),\n",
        "    F.stddev_pop(\"duration_min\").alias(\"sigma\")  # std poblacional\n",
        ").first()\n",
        "mu = float(stats[\"mu\"])\n",
        "sigma = float(stats[\"sigma\"])\n",
        "\n",
        "mode_row = (\n",
        "    df_min.groupBy(\"duration_min\").count()\n",
        "          .orderBy(F.desc(\"count\"), F.asc(\"duration_min\"))\n",
        "          .first()\n",
        ")\n",
        "mode_min = int(mode_row[\"duration_min\"]) if mode_row else None\n",
        "\n",
        "# A pandas para graficar\n",
        "df_dist_ext = dist_ext_spark.toPandas()\n"
      ]
    },
    {
      "cell_type": "code",
      "execution_count": 24,
      "metadata": {},
      "outputs": [
        {
          "data": {
            "image/png": "[encoded data removed]",
            "text/plain": [
              "<Figure size 1200x420 with 1 Axes>"
            ]
          },
          "metadata": {},
          "output_type": "display_data"
        }
      ],
      "source": [
        "import numpy as np\n",
        "import matplotlib.pyplot as plt\n",
        "from matplotlib.ticker import FuncFormatter\n",
        "import builtins as bt  # usar min/max nativos\n",
        "\n",
        "# df_dist_ext: columnas [bin_key, bin_label, count, pct]\n",
        "df = df_dist_ext.copy().reset_index(drop=True)\n",
        "\n",
        "def minute_to_key(m: float) -> int:\n",
        "    if m <= 60:  return int(np.floor(m))\n",
        "    if m <= 90:  return 61\n",
        "    if m <= 120: return 62\n",
        "    if m <= 180: return 63\n",
        "    if m <= 240: return 64\n",
        "    return 65\n",
        "\n",
        "# bin_key -> índice de barra\n",
        "key_to_idx = {int(k): i for i, k in enumerate(df[\"bin_key\"].astype(int).tolist())}\n",
        "def key_to_bar_index(k: int): return key_to_idx.get(int(k), None)\n",
        "\n",
        "# posiciones de líneas\n",
        "x_mu   = key_to_bar_index(minute_to_key(mu))\n",
        "x_m1   = key_to_bar_index(minute_to_key(bt.max(0.0, mu - sigma)))\n",
        "x_p1   = key_to_bar_index(minute_to_key(mu + sigma))\n",
        "x_mode = key_to_bar_index(minute_to_key(mode_min)) if mode_min is not None else None\n",
        "\n",
        "bar_x = np.arange(len(df))\n",
        "\n",
        "# ticks de X: 0..60 cada 5 + extendidos\n",
        "idx_0_60 = df.index[df[\"bin_key\"] <= 60]\n",
        "idx_ext  = df.index[df[\"bin_key\"] > 60]\n",
        "tick_idx = list(idx_0_60[::5]) + list(idx_ext)\n",
        "tick_lab = df.loc[tick_idx, \"bin_label\"]\n",
        "\n",
        "# Y en k/M\n",
        "fmt_y = FuncFormatter(lambda v, pos: f\"{v/1e6:.1f}M\" if v >= 1e6 else (f\"{v/1e3:.0f}k\" if v >= 1e3 else f\"{int(v)}\"))\n",
        "\n",
        "# ---- gráfico conteo ----\n",
        "fig, ax = plt.subplots(figsize=(12, 4.2))\n",
        "ax.bar(bar_x, df[\"count\"], zorder=2)\n",
        "\n",
        "ax.set_title(\"Distribución por minuto (bins extendidos) — Conteo\")\n",
        "ax.set_xlabel(\"Duración\")\n",
        "ax.set_ylabel(\"Cantidad\")\n",
        "ax.set_xticks(tick_idx, tick_lab, rotation=45, ha=\"right\")\n",
        "ax.yaxis.set_major_formatter(fmt_y)  # usamos FuncFormatter\n",
        "# ax.ticklabel_format(style=\"plain\", axis=\"y\")  # ❌ quitar\n",
        "\n",
        "# líneas estadísticas\n",
        "if x_mu is not None:\n",
        "    ax.axvline(x_mu, linestyle=\"--\", linewidth=1.5, zorder=3, label=f\"Media ≈ {mu:.2f} min\")\n",
        "if x_mode is not None:\n",
        "    ax.axvline(x_mode, linestyle=\"-.\", linewidth=1.5, zorder=3, label=f\"Moda = {int(mode_min)} min\")\n",
        "if (x_m1 is not None) and (x_p1 is not None):\n",
        "    ax.axvline(x_m1, linestyle=\":\", linewidth=1.2, zorder=3, label=f\"μ−σ ≈ {bt.max(0.0, mu - sigma):.2f}\")\n",
        "    ax.axvline(x_p1, linestyle=\":\", linewidth=1.2, zorder=3, label=f\"μ+σ ≈ {mu + sigma:.2f}\")\n",
        "\n",
        "ax.legend(loc=\"upper right\")\n",
        "fig.tight_layout()\n",
        "plt.show()\n"
      ]
    },
    {
      "cell_type": "markdown",
      "metadata": {},
      "source": [
        "## EDA Coordenadas"
      ]
    },
    {
      "cell_type": "markdown",
      "metadata": {},
      "source": [
        "Remover coordenadas en 0"
      ]
    },
    {
      "cell_type": "code",
      "execution_count": 25,
      "metadata": {},
      "outputs": [
        {
          "name": "stdout",
          "output_type": "stream",
          "text": [
            "Removidas: 67 filas (0.000248%)\n"
          ]
        }
      ],
      "source": [
        "import pyspark.sql.functions as F\n",
        "\n",
        "# Opcional: asegurar tipos numéricos\n",
        "df1 = (df_spark\n",
        "       .withColumn(\"start_lat\", F.col(\"start_lat\").cast(\"double\"))\n",
        "       .withColumn(\"start_lng\", F.col(\"start_lng\").cast(\"double\"))\n",
        "       .withColumn(\"end_lat\",   F.col(\"end_lat\").cast(\"double\"))\n",
        "       .withColumn(\"end_lng\",   F.col(\"end_lng\").cast(\"double\")))\n",
        "\n",
        "bad = (\n",
        "    (F.col(\"start_lat\") == 0) |\n",
        "    (F.col(\"start_lng\") == 0) |\n",
        "    (F.col(\"end_lat\")   == 0) |\n",
        "    (F.col(\"end_lng\")   == 0)\n",
        ")\n",
        "\n",
        "# Si también quieres excluir nulos, usa .isNull() en el OR:\n",
        "# bad = bad | F.col(\"start_lat\").isNull() | F.col(\"start_lng\").isNull() | \\\n",
        "#             F.col(\"end_lat\").isNull()   | F.col(\"end_lng\").isNull()\n",
        "\n",
        "df_spark = df1.filter(~bad)\n",
        "\n",
        "# (Opcional) ver impacto\n",
        "before = df1.count()\n",
        "after  = df_spark.count()\n",
        "print(f\"Removidas: {before - after} filas ({(before-after)/before:.6%})\")\n"
      ]
    },
    {
      "cell_type": "code",
      "execution_count": 26,
      "metadata": {},
      "outputs": [
        {
          "name": "stdout",
          "output_type": "stream",
          "text": [
            "Puntos (start/end) totales: 53,968,112\n",
            "Dentro BBOX Boston ∪ Salem: 53,966,922 (99.9978%)\n",
            "Fuera: 1,190 (0.0022%)\n",
            "Mapa guardado: verificacion_bbox_boston_salem.html\n"
          ]
        }
      ],
      "source": [
        "# --- VERIFICACIÓN DE LÍMITES (Boston ∪ Salem/Beverly) ---\n",
        "import pyspark.sql.functions as F\n",
        "import folium\n",
        "from folium.plugins import MarkerCluster\n",
        "df_clean = df_spark  # o df_spark si aún no filtras ceros\n",
        "# BBOX iniciales (aprox por la imagen)\n",
        "BOS = dict(lat_min=42.22, lat_max=42.46, lng_min=-71.26, lng_max=-70.95)  # Boston-Cambridge-Newton-Quincy\n",
        "#SAL = dict(lat_min=42.50, lat_max=42.61, lng_min=-70.95, lng_max=-70.80)  # Salem-Beverly\n",
        "SAL = dict(lat_min=42.46, lat_max=42.61, lng_min=-70.95, lng_max=-70.80) \n",
        "def in_bbox_cols(lat_col, lng_col, b):\n",
        "    return (\n",
        "        F.col(lat_col).between(b[\"lat_min\"], b[\"lat_max\"]) &\n",
        "        F.col(lng_col).between(b[\"lng_min\"], b[\"lng_max\"])\n",
        "    )\n",
        "\n",
        "# Unión de puntos (start+end) para inspección\n",
        "coords_all = (\n",
        "    df_clean.select(F.col(\"start_lat\").alias(\"lat\"), F.col(\"start_lng\").alias(\"lng\"))\n",
        "            .unionByName(df_clean.select(F.col(\"end_lat\").alias(\"lat\"), F.col(\"end_lng\").alias(\"lng\")))\n",
        "            .cache()\n",
        ")\n",
        "\n",
        "# Dentro / fuera de la unión de BBOX\n",
        "in_union  = in_bbox_cols(\"lat\",\"lng\",BOS) | in_bbox_cols(\"lat\",\"lng\",SAL)\n",
        "n_total   = coords_all.count()\n",
        "n_inside  = coords_all.filter(in_union).count()\n",
        "n_outside = n_total - n_inside\n",
        "print(f\"Puntos (start/end) totales: {n_total:,}\")\n",
        "print(f\"Dentro BBOX Boston ∪ Salem: {n_inside:,} ({n_inside/n_total:.4%})\")\n",
        "print(f\"Fuera: {n_outside:,} ({n_outside/n_total:.4%})\")\n",
        "\n",
        "# Muestras para mapa\n",
        "in_sample  = coords_all.filter(in_union).sample(False, 5e-6, seed=42).limit(6000).toPandas()\n",
        "out_sample = coords_all.filter(~in_union).dropDuplicates().limit(3000).toPandas()\n",
        "\n",
        "# Mapa\n",
        "m = folium.Map(location=[42.36, -71.06], zoom_start=11, tiles=\"CartoDB positron\")\n",
        "# Rectángulos BBOX\n",
        "folium.Rectangle([[BOS[\"lat_min\"], BOS[\"lng_min\"]],[BOS[\"lat_max\"], BOS[\"lng_max\"]]],\n",
        "                 color=\"#2c7fb8\", weight=2, fill=False, tooltip=\"BOSTON\").add_to(m)\n",
        "folium.Rectangle([[SAL[\"lat_min\"], SAL[\"lng_min\"]],[SAL[\"lat_max\"], SAL[\"lng_max\"]]],\n",
        "                 color=\"#41ab5d\", weight=2, fill=False, tooltip=\"SALEM/BEVERLY\").add_to(m)\n",
        "# Puntos dentro (contexto)\n",
        "if len(in_sample):\n",
        "    cl_in = MarkerCluster(name=\"Dentro (BOS ∪ SAL)\").add_to(m)\n",
        "    for r in in_sample.itertuples(index=False):\n",
        "        folium.CircleMarker([r.lat, r.lng], radius=2, opacity=0.5, fill=True, fill_opacity=0.5).add_to(cl_in)\n",
        "# Puntos fuera (a revisar)\n",
        "if len(out_sample):\n",
        "    cl_out = MarkerCluster(name=\"Fuera\").add_to(m)\n",
        "    for r in out_sample.itertuples(index=False):\n",
        "        folium.CircleMarker([r.lat, r.lng], radius=4, color=\"red\", fill=True, fill_opacity=0.9).add_to(cl_out)\n",
        "folium.LayerControl().add_to(m)\n",
        "m.save(\"verificacion_bbox_boston_salem.html\")\n",
        "print(\"Mapa guardado: verificacion_bbox_boston_salem.html\")\n"
      ]
    },
    {
      "cell_type": "code",
      "execution_count": 27,
      "metadata": {},
      "outputs": [
        {
          "name": "stdout",
          "output_type": "stream",
          "text": [
            "Outliers únicos: 37\n",
            "Mapa guardado: outliers_bbox_solo.html\n"
          ]
        }
      ],
      "source": [
        "# Mapa SOLO con puntos FUERA del BBOX, sin cluster, encuadrado a sus coordenadas\n",
        "import folium\n",
        "import builtins as bt  # para min/max nativos\n",
        "\n",
        "# 1) Puntos fuera (únicos por lat/lng)\n",
        "df_out = (coords_all\n",
        "          .filter(~in_union)\n",
        "          .dropDuplicates([\"lat\",\"lng\"])\n",
        "          .toPandas())\n",
        "print(f\"Outliers únicos: {len(df_out)}\")\n",
        "\n",
        "if len(df_out) == 0:\n",
        "    print(\"No hay puntos fuera del BBOX. Revisa que BOS/SAL estén bien definidos.\")\n",
        "else:\n",
        "    # 2) Mapa centrado en el bounding de los outliers\n",
        "    lat_min = float(df_out[\"lat\"].min()); lat_max = float(df_out[\"lat\"].max())\n",
        "    lng_min = float(df_out[\"lng\"].min()); lng_max = float(df_out[\"lng\"].max())\n",
        "    m = folium.Map(location=[(lat_min+lat_max)/2, (lng_min+lng_max)/2], zoom_start=12, tiles=\"CartoDB positron\")\n",
        "\n",
        "    # BBOX de referencia\n",
        "    folium.Rectangle([[BOS[\"lat_min\"], BOS[\"lng_min\"]],[BOS[\"lat_max\"], BOS[\"lng_max\"]]],\n",
        "                     color=\"#2c7fb8\", weight=2, fill=False, tooltip=\"BOSTON\").add_to(m)\n",
        "    folium.Rectangle([[SAL[\"lat_min\"], SAL[\"lng_min\"]],[SAL[\"lat_max\"], SAL[\"lng_max\"]]],\n",
        "                     color=\"#41ab5d\", weight=2, fill=False, tooltip=\"SALEM/BEVERLY\").add_to(m)\n",
        "\n",
        "    # 3) Pintar cada outlier en rojo (sin cluster)\n",
        "    for r in df_out.itertuples(index=False):\n",
        "        folium.CircleMarker([r.lat, r.lng], radius=5, color=\"red\",\n",
        "                            fill=True, fill_opacity=0.9,\n",
        "                            tooltip=f\"{r.lat:.5f}, {r.lng:.5f}\").add_to(m)\n",
        "\n",
        "    # 4) Encadrar exactamente a los outliers (con un pelín de margen)\n",
        "    PAD = 0.002  # ~200 m\n",
        "    m.fit_bounds([[lat_min-PAD, lng_min-PAD], [lat_max+PAD, lng_max+PAD]])\n",
        "\n",
        "    m.save(\"outliers_bbox_solo.html\")\n",
        "    print(\"Mapa guardado: outliers_bbox_solo.html\")\n"
      ]
    },
    {
      "cell_type": "code",
      "execution_count": 28,
      "metadata": {},
      "outputs": [
        {
          "name": "stdout",
          "output_type": "stream",
          "text": [
            "Fuera (con buffer): 1190 | cerca del borde: 27 | bien lejos: 1163\n",
            "Mapa guardado: auditor_outliers_buffer.html\n"
          ]
        }
      ],
      "source": [
        "# --- Auditor visual: puntos FUERA con distancia al borde del BBOX ---\n",
        "import pyspark.sql.functions as F\n",
        "import folium\n",
        "import builtins as bt  # para min/max nativos\n",
        "\n",
        "# BBOX base (los tuyos)\n",
        "BOS = dict(lat_min=42.22, lat_max=42.46, lng_min=-71.26, lng_max=-70.95)\n",
        "SAL = dict(lat_min=42.46, lat_max=42.61, lng_min=-70.95, lng_max=-70.80)\n",
        "\n",
        "# Buffer para rescatar bordes (~0.005° ≈ 500–600 m). Ajusta si hace falta.\n",
        "MARGIN = 0.005\n",
        "BOS_BUF = dict(lat_min=BOS[\"lat_min\"]-MARGIN, lat_max=BOS[\"lat_max\"]+MARGIN,\n",
        "               lng_min=BOS[\"lng_min\"]-MARGIN, lng_max=BOS[\"lng_max\"]+MARGIN)\n",
        "SAL_BUF = dict(lat_min=SAL[\"lat_min\"]-MARGIN, lat_max=SAL[\"lat_max\"]+MARGIN,\n",
        "               lng_min=SAL[\"lng_min\"]-MARGIN, lng_max=SAL[\"lng_max\"]+MARGIN)\n",
        "\n",
        "def in_bbox_cols(lat, lng, b):\n",
        "    return F.col(lat).between(b[\"lat_min\"], b[\"lat_max\"]) & F.col(lng).between(b[\"lng_min\"], b[\"lng_max\"])\n",
        "\n",
        "# Puntos (start+end) combinados\n",
        "coords_all = (\n",
        "    df_clean.select(F.col(\"start_lat\").alias(\"lat\"), F.col(\"start_lng\").alias(\"lng\"))\n",
        "            .unionByName(df_clean.select(F.col(\"end_lat\").alias(\"lat\"), F.col(\"end_lng\").alias(\"lng\")))\n",
        "            .cache()\n",
        ")\n",
        "\n",
        "# Unión “buffered”\n",
        "in_union_buf = in_bbox_cols(\"lat\",\"lng\",BOS_BUF) | in_bbox_cols(\"lat\",\"lng\",SAL_BUF)\n",
        "\n",
        "# --- Distancia al borde más cercano de BOS/SAL (en metros, aprox) ---\n",
        "def dist_to_box_m(lat_col, lng_col, b):\n",
        "    # deltas en grados hasta el rectángulo\n",
        "    dy_deg = F.when(F.col(lat_col) < b[\"lat_min\"], b[\"lat_min\"] - F.col(lat_col)) \\\n",
        "             .when(F.col(lat_col) > b[\"lat_max\"], F.col(lat_col) - b[\"lat_max\"]) \\\n",
        "             .otherwise(F.lit(0.0))\n",
        "    dx_deg = F.when(F.col(lng_col) < b[\"lng_min\"], b[\"lng_min\"] - F.col(lng_col)) \\\n",
        "             .when(F.col(lng_col) > b[\"lng_max\"], F.col(lng_col) - b[\"lng_max\"]) \\\n",
        "             .otherwise(F.lit(0.0))\n",
        "    m_per_deg_lat = F.lit(111_320.0)\n",
        "    m_per_deg_lon = F.lit(111_320.0) * F.cos(F.radians(F.col(lat_col)))  # escala local\n",
        "    dx_m = dx_deg * m_per_deg_lon\n",
        "    dy_m = dy_deg * m_per_deg_lat\n",
        "    return F.sqrt(dx_m*dx_m + dy_m*dy_m)\n",
        "\n",
        "out = (coords_all\n",
        "       .filter(~in_union_buf)\n",
        "       .withColumn(\"dist_bos_m\", dist_to_box_m(\"lat\",\"lng\",BOS_BUF))\n",
        "       .withColumn(\"dist_sal_m\", dist_to_box_m(\"lat\",\"lng\",SAL_BUF))\n",
        "       .withColumn(\"dist_m\", F.least(\"dist_bos_m\",\"dist_sal_m\"))\n",
        "       .cache())\n",
        "\n",
        "EDGE_TOL_M = 1000.0  # “cerca del borde” = a <= 1 km del rectángulo\n",
        "near = out.filter(F.col(\"dist_m\") <= EDGE_TOL_M)\n",
        "far  = out.filter(F.col(\"dist_m\") >  EDGE_TOL_M)\n",
        "\n",
        "print(\"Fuera (con buffer):\", out.count(),\n",
        "      \"| cerca del borde:\", near.count(),\n",
        "      \"| bien lejos:\", far.count())\n",
        "\n",
        "# A pandas para el mapa (únicos por coord)\n",
        "near_df = near.dropDuplicates([\"lat\",\"lng\"]).limit(5000).toPandas()\n",
        "far_df  = far.dropDuplicates([\"lat\",\"lng\"]).toPandas()\n",
        "\n",
        "# --- Mapa sin clustering para verlos sí o sí ---\n",
        "m = folium.Map(location=[42.36, -71.06], zoom_start=8, tiles=\"CartoDB positron\")\n",
        "\n",
        "# Rectángulos (buffered)\n",
        "folium.Rectangle([[BOS_BUF[\"lat_min\"], BOS_BUF[\"lng_min\"]],[BOS_BUF[\"lat_max\"], BOS_BUF[\"lng_max\"]]],\n",
        "                 color=\"#2c7fb8\", weight=2, fill=False, tooltip=\"BOSTON (buf)\").add_to(m)\n",
        "folium.Rectangle([[SAL_BUF[\"lat_min\"], SAL_BUF[\"lng_min\"]],[SAL_BUF[\"lat_max\"], SAL_BUF[\"lng_max\"]]],\n",
        "                 color=\"#41ab5d\", weight=2, fill=False, tooltip=\"SALEM (buf)\").add_to(m)\n",
        "\n",
        "# Puntos cerca del borde (naranja)\n",
        "for r in near_df.itertuples(index=False):\n",
        "    folium.CircleMarker([r.lat, r.lng], radius=4, color=\"#ff8c00\", fill=True, fill_opacity=0.8).add_to(m)\n",
        "\n",
        "# Puntos bien lejos (rojo)\n",
        "for r in far_df.itertuples(index=False):\n",
        "    folium.CircleMarker([r.lat, r.lng], radius=6, color=\"red\", fill=True, fill_opacity=0.9,\n",
        "                        tooltip=f\"{r.lat:.5f}, {r.lng:.5f}  | {getattr(r,'dist_m',None)}m\").add_to(m)\n",
        "\n",
        "# Encadre: BBOX + outliers\n",
        "if len(far_df) or len(near_df):\n",
        "    lat_min = bt.min(BOS_BUF[\"lat_min\"], SAL_BUF[\"lat_min\"],\n",
        "                     float((near_df[\"lat\"].min() if len(near_df) else BOS_BUF[\"lat_min\"])),\n",
        "                     float((far_df[\"lat\"].min()  if len(far_df)  else BOS_BUF[\"lat_min\"])))\n",
        "    lat_max = bt.max(BOS_BUF[\"lat_max\"], SAL_BUF[\"lat_max\"],\n",
        "                     float((near_df[\"lat\"].max() if len(near_df) else BOS_BUF[\"lat_max\"])),\n",
        "                     float((far_df[\"lat\"].max()  if len(far_df)  else BOS_BUF[\"lat_max\"])))\n",
        "    lng_min = bt.min(BOS_BUF[\"lng_min\"], SAL_BUF[\"lng_min\"],\n",
        "                     float((near_df[\"lng\"].min() if len(near_df) else BOS_BUF[\"lng_min\"])),\n",
        "                     float((far_df[\"lng\"].min()  if len(far_df)  else BOS_BUF[\"lng_min\"])))\n",
        "    lng_max = bt.max(BOS_BUF[\"lng_max\"], SAL_BUF[\"lng_max\"],\n",
        "                     float((near_df[\"lng\"].max() if len(near_df) else BOS_BUF[\"lng_max\"])),\n",
        "                     float((far_df[\"lng\"].max()  if len(far_df)  else BOS_BUF[\"lng_max\"])))\n",
        "    m.fit_bounds([[lat_min, lng_min], [lat_max, lng_max]])\n",
        "\n",
        "m.save(\"auditor_outliers_buffer.html\")\n",
        "print(\"Mapa guardado: auditor_outliers_buffer.html\")\n"
      ]
    },
    {
      "cell_type": "markdown",
      "metadata": {},
      "source": [
        "Remover fuera de bbox"
      ]
    },
    {
      "cell_type": "code",
      "execution_count": 30,
      "metadata": {},
      "outputs": [
        {
          "name": "stdout",
          "output_type": "stream",
          "text": [
            "Quedan dentro (BOS∪SAL buffered): 26,983,432 | Removidas: 624 (0.0023%)\n"
          ]
        }
      ],
      "source": [
        "# Mantener viajes cuyo START y END estén dentro de (BOS_BUF ∪ SAL_BUF)\n",
        "def in_bbox(lat_col, lng_col, b):\n",
        "    return F.col(lat_col).between(b[\"lat_min\"], b[\"lat_max\"]) & F.col(lng_col).between(b[\"lng_min\"], b[\"lng_max\"])\n",
        "\n",
        "start_ok = in_bbox(\"start_lat\",\"start_lng\",BOS_BUF) | in_bbox(\"start_lat\",\"start_lng\",SAL_BUF)\n",
        "end_ok   = in_bbox(\"end_lat\",\"end_lng\",BOS_BUF)     | in_bbox(\"end_lat\",\"end_lng\",SAL_BUF)\n",
        "\n",
        "before = df_clean.count()\n",
        "df_area = df_clean.filter(start_ok & end_ok)   # <- salva bordes por el buffer y descarta los lejanos\n",
        "after  = df_area.count()\n",
        "print(f\"Quedan dentro (BOS∪SAL buffered): {after:,} | Removidas: {before-after:,} ({(before-after)/before:.4%})\")\n",
        "df_spark=df_area\n",
        "# opcional: vista/guardar\n",
        "# df_area.createOrReplaceTempView(\"rides_area\")\n",
        "# df_area.write.mode(\"overwrite\").parquet(\".../rides_area.parquet\")\n"
      ]
    },
    {
      "cell_type": "markdown",
      "metadata": {},
      "source": [
        "CORRER HASTA AQUI"
      ]
    },
    {
      "cell_type": "markdown",
      "metadata": {},
      "source": [
        "GUARDAR CHECKPOINT"
      ]
    },
    {
      "cell_type": "markdown",
      "metadata": {},
      "source": [
        "# Crear columnas adicionales para analisis"
      ]
    },
    {
      "cell_type": "code",
      "execution_count": null,
      "metadata": {},
      "outputs": [],
      "source": [
        "import pyspark.sql.functions as F\n",
        "\n",
        "# Asegura tipos y una columna de fecha base para los flags\n",
        "df_spark = (\n",
        "    df_spark\n",
        "    .withColumn(\"start_lat\", F.col(\"start_lat\").cast(\"double\"))\n",
        "    .withColumn(\"start_lng\", F.col(\"start_lng\").cast(\"double\"))\n",
        "    .withColumn(\"end_lat\",   F.col(\"end_lat\").cast(\"double\"))\n",
        "    .withColumn(\"end_lng\",   F.col(\"end_lng\").cast(\"double\"))\n",
        "    .withColumn(\"started_at\", F.to_timestamp(\"started_at\"))\n",
        "    .withColumn(\"ended_at\",   F.to_timestamp(\"ended_at\"))\n",
        "    .withColumn(\"ride_date\",  F.to_date(\"started_at\"))\n",
        ")\n"
      ]
    },
    {
      "cell_type": "markdown",
      "metadata": {},
      "source": [
        "Distancia de recorrido (dist_km) por Haversine"
      ]
    },
    {
      "cell_type": "code",
      "execution_count": null,
      "metadata": {},
      "outputs": [],
      "source": [
        "import pyspark.sql.functions as F\n",
        "\n",
        "R = 6371.0088  # radio medio de la Tierra en km\n",
        "\n",
        "phi1 = F.radians(F.col(\"start_lat\"))\n",
        "phi2 = F.radians(F.col(\"end_lat\"))\n",
        "dphi = F.radians(F.col(\"end_lat\") - F.col(\"start_lat\"))\n",
        "dlmb = F.radians(F.col(\"end_lng\") - F.col(\"start_lng\"))\n",
        "\n",
        "a = F.pow(F.sin(dphi/2), 2) + F.cos(phi1)*F.cos(phi2)*F.pow(F.sin(dlmb/2), 2)\n",
        "c = 2 * F.atan2(F.sqrt(a), F.sqrt(1 - a))\n",
        "\n",
        "df_spark = df_spark.withColumn(\n",
        "    \"dist_km\",\n",
        "    F.when(a.isNotNull(), c * F.lit(R)).otherwise(F.lit(None))\n",
        ")\n"
      ]
    },
    {
      "cell_type": "markdown",
      "metadata": {},
      "source": [
        "Flags de día: is_weekday / is_weekend"
      ]
    },
    {
      "cell_type": "code",
      "execution_count": null,
      "metadata": {},
      "outputs": [],
      "source": [
        "import pyspark.sql.functions as F\n",
        "\n",
        "# (opcional) elimina las columnas previas si quedaron mal definidas\n",
        "for c in [\"is_weekday\", \"is_weekend\"]:\n",
        "    if c in df_spark.columns:\n",
        "        df_spark = df_spark.drop(c)\n",
        "\n",
        "# 1=Domingo ... 7=Sábado\n",
        "dow = F.dayofweek(\"ride_date\")\n",
        "\n",
        "df_spark = (df_spark\n",
        "    .withColumn(\"is_weekend\", dow.isin(1, 7))   # Dom o Sáb\n",
        "    .withColumn(\"is_weekday\", ~F.col(\"is_weekend\"))\n",
        ")\n"
      ]
    },
    {
      "cell_type": "markdown",
      "metadata": {},
      "source": [
        "Feriados Massachusetts (USA): is_holiday"
      ]
    },
    {
      "cell_type": "code",
      "execution_count": null,
      "metadata": {},
      "outputs": [],
      "source": [
        "import pyspark.sql.functions as F\n",
        "import datetime as dt\n",
        "\n",
        "# A) rango de años presentes\n",
        "mm = df_spark.agg(F.min(\"ride_date\").alias(\"min_d\"), F.max(\"ride_date\").alias(\"max_d\")).first()\n",
        "years = list(range(mm[\"min_d\"].year, mm[\"max_d\"].year + 1))\n",
        "\n",
        "# B) construir calendario de feriados (Massachusetts)\n",
        "try:\n",
        "    import holidays\n",
        "except ImportError as e:\n",
        "    raise RuntimeError(\"Instala el paquete 'holidays' con: pip install holidays\") from e\n",
        "\n",
        "us_ma = holidays.US(subdiv=\"MA\", years=years)  # incluye 'observed'\n",
        "holiday_dates = sorted(us_ma.keys())\n",
        "\n",
        "# C) tabla de feriados -> Spark\n",
        "holiday_df = (\n",
        "    spark.createDataFrame([(d.isoformat(),) for d in holiday_dates], [\"date_str\"])\n",
        "         .select(F.to_date(\"date_str\").alias(\"ride_date\"))\n",
        "         .withColumn(\"is_holiday\", F.lit(True))\n",
        ")\n",
        "\n",
        "# D) unir al hecho por fecha\n",
        "df_spark = (\n",
        "    df_spark\n",
        "    .join(holiday_df, on=\"ride_date\", how=\"left\")\n",
        "    .withColumn(\"is_holiday\", F.coalesce(\"is_holiday\", F.lit(False)))\n",
        ")\n"
      ]
    },
    {
      "cell_type": "markdown",
      "metadata": {},
      "source": [
        "Velocidad media (speed_kmh) a partir de dist_km y duration_sec"
      ]
    },
    {
      "cell_type": "code",
      "execution_count": null,
      "metadata": {},
      "outputs": [],
      "source": [
        "import pyspark.sql.functions as F\n",
        "\n",
        "df_spark = df_spark.withColumn(\"duration_sec\", F.col(\"duration_sec\").cast(\"double\"))\n",
        "df_spark = df_spark.withColumn(\n",
        "    \"speed_kmh\",\n",
        "    F.when(F.col(\"duration_sec\") > 0, F.col(\"dist_km\") / F.col(\"duration_sec\") * 3600.0)\n",
        "     .otherwise(F.lit(None))\n",
        ")\n"
      ]
    },
    {
      "cell_type": "markdown",
      "metadata": {},
      "source": [
        "Columnas de tiempo (hora del día y truncado a hora)"
      ]
    },
    {
      "cell_type": "code",
      "execution_count": null,
      "metadata": {},
      "outputs": [],
      "source": [
        "import pyspark.sql.functions as F\n",
        "\n",
        "# asegurar tipo timestamp\n",
        "df_spark = (df_spark\n",
        "    .withColumn(\"started_at\", F.to_timestamp(\"started_at\"))\n",
        "    .withColumn(\"ended_at\",   F.to_timestamp(\"ended_at\"))\n",
        ")\n",
        "\n",
        "# === A) si tus timestamps están en UTC → conviértelos a Boston ===\n",
        "df_spark = df_spark.withColumn(\n",
        "    \"started_at_local\",\n",
        "    F.from_utc_timestamp(\"started_at\", \"America/New_York\")\n",
        ")\n",
        "# === B) si YA están en hora local, usa esta en lugar de A\n",
        "# df_spark = df_spark.withColumn(\"started_at_local\", F.col(\"started_at\"))\n",
        "\n",
        "\n",
        "\n",
        "df_spark = (df_spark\n",
        "    # ya tienes ride_date; si prefieres derivarlo de la tz local:\n",
        "    # .withColumn(\"ride_date\", F.to_date(\"started_at_local\"))\n",
        "    .withColumn(\"hour_of_day\", F.hour(\"started_at_local\"))               # 0–23\n",
        "    .withColumn(\"ts_hour\", F.date_trunc(\"hour\", F.col(\"started_at_local\")))  # inicio de la hora\n",
        ")\n"
      ]
    },
    {
      "cell_type": "code",
      "execution_count": null,
      "metadata": {},
      "outputs": [
        {
          "name": "stdout",
          "output_type": "stream",
          "text": [
            "Particiones actuales: 4\n"
          ]
        }
      ],
      "source": [
        "# Ver cuántas particiones tiene tu DataFrame\n",
        "print(f\"Particiones actuales: {df_spark.rdd.getNumPartitions()}\")"
      ]
    }
  ],
  "metadata": {
    "colab": {
      "collapsed_sections": [
        "NBT1eIkbzswC",
        "LEIS9FnVz5Gl",
        "sIZbaNcLtpEf",
        "YzUdL351tpEg",
        "ELRcIAF_tpEg"
      ],
      "provenance": []
    },
    "kernelspec": {
      "display_name": "ml_2025_env",
      "language": "python",
      "name": "python3"
    },
    "language_info": {
      "codemirror_mode": {
        "name": "ipython",
        "version": 3
      },
      "file_extension": ".py",
      "mimetype": "text/x-python",
      "name": "python",
      "nbconvert_exporter": "python",
      "pygments_lexer": "ipython3",
      "version": "3.11.13"
    }
  },
  "nbformat": 4,
  "nbformat_minor": 0
}
